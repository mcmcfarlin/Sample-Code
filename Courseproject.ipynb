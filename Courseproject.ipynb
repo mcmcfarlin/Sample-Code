{
 "cells": [
  {
   "cell_type": "markdown",
   "id": "0e5c5738-401a-4f82-925a-19ed585d266f",
   "metadata": {},
   "source": [
    "# **Data Cleaning**"
   ]
  },
  {
   "cell_type": "code",
   "execution_count": 1,
   "id": "dea22952-cde8-4609-873c-8c2e845b3875",
   "metadata": {
    "tags": []
   },
   "outputs": [],
   "source": [
    "import numpy as np\n",
    "import pandas as pd\n",
    "import seaborn as sns\n",
    "import matplotlib.pyplot as plt\n",
    "%matplotlib inline"
   ]
  },
  {
   "cell_type": "code",
   "execution_count": 2,
   "id": "a132dcbe-a179-447d-bdbe-22aa15de23e2",
   "metadata": {
    "tags": []
   },
   "outputs": [],
   "source": [
    "df = pd.read_csv(\"adult22.csv\")"
   ]
  },
  {
   "cell_type": "code",
   "execution_count": 3,
   "id": "74ea6186-006e-4810-95b6-a2411ed0ffb9",
   "metadata": {
    "tags": []
   },
   "outputs": [
    {
     "name": "stdout",
     "output_type": "stream",
     "text": [
      "<class 'pandas.core.frame.DataFrame'>\n",
      "RangeIndex: 27651 entries, 0 to 27650\n",
      "Columns: 637 entries, URBRRL to POVRATTC_A\n",
      "dtypes: float64(399), int64(237), object(1)\n",
      "memory usage: 134.4+ MB\n"
     ]
    }
   ],
   "source": [
    "df.info()"
   ]
  },
  {
   "cell_type": "code",
   "execution_count": 4,
   "id": "bc822823-ac0f-4772-8c6a-e210fd3d1b7f",
   "metadata": {
    "tags": []
   },
   "outputs": [
    {
     "data": {
      "text/html": [
       "<div>\n",
       "<style scoped>\n",
       "    .dataframe tbody tr th:only-of-type {\n",
       "        vertical-align: middle;\n",
       "    }\n",
       "\n",
       "    .dataframe tbody tr th {\n",
       "        vertical-align: top;\n",
       "    }\n",
       "\n",
       "    .dataframe thead th {\n",
       "        text-align: right;\n",
       "    }\n",
       "</style>\n",
       "<table border=\"1\" class=\"dataframe\">\n",
       "  <thead>\n",
       "    <tr style=\"text-align: right;\">\n",
       "      <th></th>\n",
       "      <th>URBRRL</th>\n",
       "      <th>RATCAT_A</th>\n",
       "      <th>INCTCFLG_A</th>\n",
       "      <th>IMPINCFLG_A</th>\n",
       "      <th>SHOTTYPE1_A</th>\n",
       "      <th>CEVOTELC_A</th>\n",
       "      <th>CEMMETNG_A</th>\n",
       "      <th>CEVOLUN2_A</th>\n",
       "      <th>CEVOLUN1_A</th>\n",
       "      <th>HITTEST_A</th>\n",
       "      <th>...</th>\n",
       "      <th>PROXYREL_A</th>\n",
       "      <th>PROXY_A</th>\n",
       "      <th>AVAIL_A</th>\n",
       "      <th>HHSTAT_A</th>\n",
       "      <th>INTV_MON</th>\n",
       "      <th>RECTYPE</th>\n",
       "      <th>IMPNUM_A</th>\n",
       "      <th>WTFA_A</th>\n",
       "      <th>HHX</th>\n",
       "      <th>POVRATTC_A</th>\n",
       "    </tr>\n",
       "  </thead>\n",
       "  <tbody>\n",
       "    <tr>\n",
       "      <th>0</th>\n",
       "      <td>2</td>\n",
       "      <td>7</td>\n",
       "      <td>0</td>\n",
       "      <td>0</td>\n",
       "      <td>NaN</td>\n",
       "      <td>NaN</td>\n",
       "      <td>NaN</td>\n",
       "      <td>NaN</td>\n",
       "      <td>NaN</td>\n",
       "      <td>NaN</td>\n",
       "      <td>...</td>\n",
       "      <td>NaN</td>\n",
       "      <td>NaN</td>\n",
       "      <td>1</td>\n",
       "      <td>1</td>\n",
       "      <td>1</td>\n",
       "      <td>10</td>\n",
       "      <td>1</td>\n",
       "      <td>4548.583</td>\n",
       "      <td>H059086</td>\n",
       "      <td>1.92</td>\n",
       "    </tr>\n",
       "    <tr>\n",
       "      <th>1</th>\n",
       "      <td>4</td>\n",
       "      <td>14</td>\n",
       "      <td>0</td>\n",
       "      <td>0</td>\n",
       "      <td>NaN</td>\n",
       "      <td>NaN</td>\n",
       "      <td>NaN</td>\n",
       "      <td>NaN</td>\n",
       "      <td>NaN</td>\n",
       "      <td>NaN</td>\n",
       "      <td>...</td>\n",
       "      <td>NaN</td>\n",
       "      <td>NaN</td>\n",
       "      <td>1</td>\n",
       "      <td>1</td>\n",
       "      <td>1</td>\n",
       "      <td>10</td>\n",
       "      <td>1</td>\n",
       "      <td>7087.431</td>\n",
       "      <td>H054049</td>\n",
       "      <td>10.30</td>\n",
       "    </tr>\n",
       "    <tr>\n",
       "      <th>2</th>\n",
       "      <td>4</td>\n",
       "      <td>14</td>\n",
       "      <td>0</td>\n",
       "      <td>0</td>\n",
       "      <td>NaN</td>\n",
       "      <td>NaN</td>\n",
       "      <td>NaN</td>\n",
       "      <td>NaN</td>\n",
       "      <td>NaN</td>\n",
       "      <td>NaN</td>\n",
       "      <td>...</td>\n",
       "      <td>NaN</td>\n",
       "      <td>NaN</td>\n",
       "      <td>1</td>\n",
       "      <td>1</td>\n",
       "      <td>1</td>\n",
       "      <td>10</td>\n",
       "      <td>1</td>\n",
       "      <td>8125.516</td>\n",
       "      <td>H055201</td>\n",
       "      <td>9.36</td>\n",
       "    </tr>\n",
       "    <tr>\n",
       "      <th>3</th>\n",
       "      <td>4</td>\n",
       "      <td>11</td>\n",
       "      <td>0</td>\n",
       "      <td>0</td>\n",
       "      <td>NaN</td>\n",
       "      <td>NaN</td>\n",
       "      <td>NaN</td>\n",
       "      <td>NaN</td>\n",
       "      <td>NaN</td>\n",
       "      <td>NaN</td>\n",
       "      <td>...</td>\n",
       "      <td>NaN</td>\n",
       "      <td>NaN</td>\n",
       "      <td>1</td>\n",
       "      <td>1</td>\n",
       "      <td>1</td>\n",
       "      <td>10</td>\n",
       "      <td>1</td>\n",
       "      <td>7837.390</td>\n",
       "      <td>H044893</td>\n",
       "      <td>3.66</td>\n",
       "    </tr>\n",
       "    <tr>\n",
       "      <th>4</th>\n",
       "      <td>1</td>\n",
       "      <td>2</td>\n",
       "      <td>0</td>\n",
       "      <td>1</td>\n",
       "      <td>NaN</td>\n",
       "      <td>NaN</td>\n",
       "      <td>NaN</td>\n",
       "      <td>NaN</td>\n",
       "      <td>NaN</td>\n",
       "      <td>NaN</td>\n",
       "      <td>...</td>\n",
       "      <td>2.0</td>\n",
       "      <td>1.0</td>\n",
       "      <td>3</td>\n",
       "      <td>1</td>\n",
       "      <td>1</td>\n",
       "      <td>10</td>\n",
       "      <td>1</td>\n",
       "      <td>10234.356</td>\n",
       "      <td>H043149</td>\n",
       "      <td>0.69</td>\n",
       "    </tr>\n",
       "  </tbody>\n",
       "</table>\n",
       "<p>5 rows × 637 columns</p>\n",
       "</div>"
      ],
      "text/plain": [
       "   URBRRL  RATCAT_A  INCTCFLG_A  IMPINCFLG_A  SHOTTYPE1_A  CEVOTELC_A  \\\n",
       "0       2         7           0            0          NaN         NaN   \n",
       "1       4        14           0            0          NaN         NaN   \n",
       "2       4        14           0            0          NaN         NaN   \n",
       "3       4        11           0            0          NaN         NaN   \n",
       "4       1         2           0            1          NaN         NaN   \n",
       "\n",
       "   CEMMETNG_A  CEVOLUN2_A  CEVOLUN1_A  HITTEST_A  ...  PROXYREL_A  PROXY_A  \\\n",
       "0         NaN         NaN         NaN        NaN  ...         NaN      NaN   \n",
       "1         NaN         NaN         NaN        NaN  ...         NaN      NaN   \n",
       "2         NaN         NaN         NaN        NaN  ...         NaN      NaN   \n",
       "3         NaN         NaN         NaN        NaN  ...         NaN      NaN   \n",
       "4         NaN         NaN         NaN        NaN  ...         2.0      1.0   \n",
       "\n",
       "   AVAIL_A  HHSTAT_A  INTV_MON  RECTYPE  IMPNUM_A     WTFA_A      HHX  \\\n",
       "0        1         1         1       10         1   4548.583  H059086   \n",
       "1        1         1         1       10         1   7087.431  H054049   \n",
       "2        1         1         1       10         1   8125.516  H055201   \n",
       "3        1         1         1       10         1   7837.390  H044893   \n",
       "4        3         1         1       10         1  10234.356  H043149   \n",
       "\n",
       "   POVRATTC_A  \n",
       "0        1.92  \n",
       "1       10.30  \n",
       "2        9.36  \n",
       "3        3.66  \n",
       "4        0.69  \n",
       "\n",
       "[5 rows x 637 columns]"
      ]
     },
     "execution_count": 4,
     "metadata": {},
     "output_type": "execute_result"
    }
   ],
   "source": [
    "df.head()"
   ]
  },
  {
   "cell_type": "code",
   "execution_count": 5,
   "id": "515dc3f4-f82d-4f93-9174-e9232f188d38",
   "metadata": {},
   "outputs": [
    {
     "data": {
      "text/plain": [
       "PHQCAT_A\n",
       "1    21319\n",
       "2     3737\n",
       "3     1193\n",
       "4      755\n",
       "8      647\n",
       "Name: count, dtype: int64"
      ]
     },
     "execution_count": 5,
     "metadata": {},
     "output_type": "execute_result"
    }
   ],
   "source": [
    "df['PHQCAT_A'].value_counts()"
   ]
  },
  {
   "cell_type": "code",
   "execution_count": 6,
   "id": "d8c71bb9-70f1-4abe-b96e-7ff0ef0ef7d4",
   "metadata": {
    "tags": []
   },
   "outputs": [],
   "source": [
    "depression_df = df[df['PHQCAT_A'].isin([2,3,4])]"
   ]
  },
  {
   "cell_type": "code",
   "execution_count": 7,
   "id": "ac1403ed-f4b0-4c3a-8ab6-946b2821e420",
   "metadata": {
    "tags": []
   },
   "outputs": [
    {
     "name": "stdout",
     "output_type": "stream",
     "text": [
      "<class 'pandas.core.frame.DataFrame'>\n",
      "Index: 5685 entries, 10 to 27630\n",
      "Columns: 637 entries, URBRRL to POVRATTC_A\n",
      "dtypes: float64(399), int64(237), object(1)\n",
      "memory usage: 27.7+ MB\n"
     ]
    }
   ],
   "source": [
    "depression_df.info()"
   ]
  },
  {
   "cell_type": "code",
   "execution_count": 8,
   "id": "642d6f34-b197-4e2c-b2fa-89c69ee998f4",
   "metadata": {
    "tags": []
   },
   "outputs": [
    {
     "data": {
      "text/plain": [
       "PHQCAT_A\n",
       "2    3737\n",
       "3    1193\n",
       "4     755\n",
       "Name: count, dtype: int64"
      ]
     },
     "execution_count": 8,
     "metadata": {},
     "output_type": "execute_result"
    }
   ],
   "source": [
    "depression_df['PHQCAT_A'].value_counts()"
   ]
  },
  {
   "cell_type": "code",
   "execution_count": 9,
   "id": "66559265-b6dd-4bac-854a-0dc3044771d4",
   "metadata": {
    "tags": []
   },
   "outputs": [],
   "source": [
    "depression_df = depression_df[['MHTHRPY_A','URBRRL','SEX_A','AGEP_A','HISPALLP_A','EDUCP_A','PHSTAT_A','LSATIS4_A','DIFF_A','COMDIFF_A','COGMEMDFF_A','SOCSCLPAR_A','NOTCOV_A','PAYWORRY_A','PHQCAT_A','GADCAT_A','SMKEV_A','DRKSTAT_A','PA18_02R_A','SLPHOURS_A','ORIENT_A','MARSTAT_A','PARSTAT_A','EMPLASTWK_A','POVRATTC_A','FDSCAT4_A']]"
   ]
  },
  {
   "cell_type": "code",
   "execution_count": 10,
   "id": "a8273bb3-70d3-4dda-8ca0-52e958785972",
   "metadata": {
    "tags": []
   },
   "outputs": [
    {
     "name": "stdout",
     "output_type": "stream",
     "text": [
      "<class 'pandas.core.frame.DataFrame'>\n",
      "Index: 5685 entries, 10 to 27630\n",
      "Data columns (total 26 columns):\n",
      " #   Column       Non-Null Count  Dtype  \n",
      "---  ------       --------------  -----  \n",
      " 0   MHTHRPY_A    5685 non-null   int64  \n",
      " 1   URBRRL       5685 non-null   int64  \n",
      " 2   SEX_A        5685 non-null   int64  \n",
      " 3   AGEP_A       5685 non-null   int64  \n",
      " 4   HISPALLP_A   5685 non-null   int64  \n",
      " 5   EDUCP_A      5685 non-null   int64  \n",
      " 6   PHSTAT_A     5685 non-null   int64  \n",
      " 7   LSATIS4_A    5685 non-null   int64  \n",
      " 8   DIFF_A       5685 non-null   int64  \n",
      " 9   COMDIFF_A    5685 non-null   int64  \n",
      " 10  COGMEMDFF_A  5685 non-null   int64  \n",
      " 11  SOCSCLPAR_A  5685 non-null   int64  \n",
      " 12  NOTCOV_A     5685 non-null   int64  \n",
      " 13  PAYWORRY_A   5685 non-null   int64  \n",
      " 14  PHQCAT_A     5685 non-null   int64  \n",
      " 15  GADCAT_A     5685 non-null   int64  \n",
      " 16  SMKEV_A      5685 non-null   int64  \n",
      " 17  DRKSTAT_A    5685 non-null   int64  \n",
      " 18  PA18_02R_A   5685 non-null   int64  \n",
      " 19  SLPHOURS_A   5685 non-null   int64  \n",
      " 20  ORIENT_A     5685 non-null   int64  \n",
      " 21  MARSTAT_A    5685 non-null   int64  \n",
      " 22  PARSTAT_A    5685 non-null   int64  \n",
      " 23  EMPLASTWK_A  5685 non-null   int64  \n",
      " 24  POVRATTC_A   5685 non-null   float64\n",
      " 25  FDSCAT4_A    5685 non-null   int64  \n",
      "dtypes: float64(1), int64(25)\n",
      "memory usage: 1.2 MB\n"
     ]
    }
   ],
   "source": [
    "depression_df.info()"
   ]
  },
  {
   "cell_type": "code",
   "execution_count": 11,
   "id": "288294d6-6b90-4f18-b1c1-63da73a74267",
   "metadata": {
    "tags": []
   },
   "outputs": [],
   "source": [
    "depression_df = depression_df.loc[depression_df['MHTHRPY_A']!=7]"
   ]
  },
  {
   "cell_type": "code",
   "execution_count": 12,
   "id": "506d665d-4d43-4902-9eae-9b83acae343c",
   "metadata": {
    "tags": []
   },
   "outputs": [],
   "source": [
    "depression_df = depression_df.loc[depression_df['MHTHRPY_A']!=8]"
   ]
  },
  {
   "cell_type": "code",
   "execution_count": 13,
   "id": "90765bf0-f641-4687-882e-f7fe2f6dac63",
   "metadata": {
    "tags": []
   },
   "outputs": [],
   "source": [
    "depression_df = depression_df.loc[depression_df['MHTHRPY_A']!=9]"
   ]
  },
  {
   "cell_type": "code",
   "execution_count": 14,
   "id": "4a669a2a-52a0-4aec-89d5-441c6d3299f6",
   "metadata": {
    "tags": []
   },
   "outputs": [],
   "source": [
    "depression_df = depression_df.loc[depression_df['SEX_A']!=7]"
   ]
  },
  {
   "cell_type": "code",
   "execution_count": 15,
   "id": "ff1f0b80-d868-48a5-9605-f185fca4ef02",
   "metadata": {
    "tags": []
   },
   "outputs": [],
   "source": [
    "depression_df = depression_df.loc[depression_df['SEX_A']!=8]"
   ]
  },
  {
   "cell_type": "code",
   "execution_count": 16,
   "id": "43d00857-f6e8-4d7a-9d38-eb3e662e00da",
   "metadata": {
    "tags": []
   },
   "outputs": [],
   "source": [
    "depression_df = depression_df.loc[depression_df['SEX_A']!=9]"
   ]
  },
  {
   "cell_type": "code",
   "execution_count": 17,
   "id": "76b2edc8-9ef7-4b46-9664-662df4ed3c58",
   "metadata": {
    "tags": []
   },
   "outputs": [],
   "source": [
    "depression_df = depression_df.loc[depression_df['AGEP_A']!=97]"
   ]
  },
  {
   "cell_type": "code",
   "execution_count": 18,
   "id": "f2783eda-7859-44ab-9a70-b67977702273",
   "metadata": {
    "tags": []
   },
   "outputs": [],
   "source": [
    "depression_df = depression_df.loc[depression_df['AGEP_A']!=99]"
   ]
  },
  {
   "cell_type": "code",
   "execution_count": 19,
   "id": "359c8f5c-5fe9-41fc-b5cd-6cd0a749d110",
   "metadata": {
    "tags": []
   },
   "outputs": [],
   "source": [
    "depression_df = depression_df.loc[depression_df['EDUCP_A']!=97]"
   ]
  },
  {
   "cell_type": "code",
   "execution_count": 20,
   "id": "23685f85-b0af-4c07-aeca-a75ab0f26010",
   "metadata": {
    "tags": []
   },
   "outputs": [],
   "source": [
    "depression_df = depression_df.loc[depression_df['EDUCP_A']!=99]"
   ]
  },
  {
   "cell_type": "code",
   "execution_count": 21,
   "id": "39a84f45-a426-4e0f-850e-11eb62cc22b9",
   "metadata": {
    "tags": []
   },
   "outputs": [],
   "source": [
    "depression_df = depression_df.loc[depression_df['PHSTAT_A']!=7]"
   ]
  },
  {
   "cell_type": "code",
   "execution_count": 22,
   "id": "46489b63-e5ee-4e74-a099-4a143a0113f1",
   "metadata": {
    "tags": []
   },
   "outputs": [],
   "source": [
    "depression_df = depression_df.loc[depression_df['PHSTAT_A']!=9]"
   ]
  },
  {
   "cell_type": "code",
   "execution_count": 23,
   "id": "b5e8332d-2ce7-4867-bc00-b02a4ec54cea",
   "metadata": {
    "tags": []
   },
   "outputs": [],
   "source": [
    "depression_df = depression_df.loc[depression_df['LSATIS4_A']!=7]"
   ]
  },
  {
   "cell_type": "code",
   "execution_count": 24,
   "id": "647fd110-7b3a-418a-b9cf-a9022b238f65",
   "metadata": {
    "tags": []
   },
   "outputs": [],
   "source": [
    "depression_df = depression_df.loc[depression_df['LSATIS4_A']!=9]"
   ]
  },
  {
   "cell_type": "code",
   "execution_count": 25,
   "id": "115936f4-043d-4285-80d0-e53955dc186a",
   "metadata": {
    "tags": []
   },
   "outputs": [],
   "source": [
    "depression_df = depression_df.loc[depression_df['DIFF_A']!=7]"
   ]
  },
  {
   "cell_type": "code",
   "execution_count": 26,
   "id": "a6786c59-8438-46e7-83dd-16475cc9a939",
   "metadata": {
    "tags": []
   },
   "outputs": [],
   "source": [
    "depression_df = depression_df.loc[depression_df['DIFF_A']!=9]"
   ]
  },
  {
   "cell_type": "code",
   "execution_count": 27,
   "id": "f8cf45f5-cfea-4408-89c7-f91bcd74781e",
   "metadata": {
    "tags": []
   },
   "outputs": [],
   "source": [
    "depression_df = depression_df.loc[depression_df['COMDIFF_A']!=7]"
   ]
  },
  {
   "cell_type": "code",
   "execution_count": 28,
   "id": "b93e4823-0d81-437e-b720-f8dd1c7f5e9e",
   "metadata": {
    "tags": []
   },
   "outputs": [],
   "source": [
    "depression_df = depression_df.loc[depression_df['COMDIFF_A']!=9]"
   ]
  },
  {
   "cell_type": "code",
   "execution_count": 29,
   "id": "cd91d95a-0ebd-49bb-9f57-ac18feaf6e60",
   "metadata": {
    "tags": []
   },
   "outputs": [],
   "source": [
    "depression_df = depression_df.loc[depression_df['COGMEMDFF_A']!=7]"
   ]
  },
  {
   "cell_type": "code",
   "execution_count": 30,
   "id": "d71a5b21-f23f-467f-875e-91a9ba7681aa",
   "metadata": {
    "tags": []
   },
   "outputs": [],
   "source": [
    "depression_df = depression_df.loc[depression_df['COGMEMDFF_A']!=9]"
   ]
  },
  {
   "cell_type": "code",
   "execution_count": 31,
   "id": "ade112d0-c314-4551-bd48-7318862f6b73",
   "metadata": {
    "tags": []
   },
   "outputs": [],
   "source": [
    "depression_df = depression_df.loc[depression_df['SOCSCLPAR_A']!=7]"
   ]
  },
  {
   "cell_type": "code",
   "execution_count": 32,
   "id": "b6d59c9e-af25-4068-994e-23496b6014a0",
   "metadata": {
    "tags": []
   },
   "outputs": [],
   "source": [
    "depression_df = depression_df.loc[depression_df['SOCSCLPAR_A']!=9]"
   ]
  },
  {
   "cell_type": "code",
   "execution_count": 33,
   "id": "7560edad-f45a-410a-956b-58f26937b599",
   "metadata": {
    "tags": []
   },
   "outputs": [],
   "source": [
    "depression_df = depression_df.loc[depression_df['NOTCOV_A']!=9]"
   ]
  },
  {
   "cell_type": "code",
   "execution_count": 34,
   "id": "dbc4f8b1-1ac7-48a3-97fd-6ac4d7da9ab2",
   "metadata": {
    "tags": []
   },
   "outputs": [],
   "source": [
    "depression_df = depression_df.loc[depression_df['PAYWORRY_A']!=7]"
   ]
  },
  {
   "cell_type": "code",
   "execution_count": 35,
   "id": "3202f4a4-a281-439f-85b3-a82ed1733dc4",
   "metadata": {
    "tags": []
   },
   "outputs": [],
   "source": [
    "depression_df = depression_df.loc[depression_df['PAYWORRY_A']!=8]"
   ]
  },
  {
   "cell_type": "code",
   "execution_count": 36,
   "id": "357acd50-9712-40e9-b251-d4d8296158f1",
   "metadata": {
    "tags": []
   },
   "outputs": [],
   "source": [
    "depression_df = depression_df.loc[depression_df['PAYWORRY_A']!=9]"
   ]
  },
  {
   "cell_type": "code",
   "execution_count": 37,
   "id": "78256006-4599-4593-99af-0f6a646676fc",
   "metadata": {
    "tags": []
   },
   "outputs": [],
   "source": [
    "depression_df = depression_df.loc[depression_df['GADCAT_A']!=8]"
   ]
  },
  {
   "cell_type": "code",
   "execution_count": 38,
   "id": "8ef06e34-f95a-4cd4-9258-87f7b4bb4324",
   "metadata": {
    "tags": []
   },
   "outputs": [],
   "source": [
    "depression_df = depression_df.loc[depression_df['SMKEV_A']!=7]"
   ]
  },
  {
   "cell_type": "code",
   "execution_count": 39,
   "id": "0b3641bc-e2a9-4ff0-a00c-3d7264ac3197",
   "metadata": {
    "tags": []
   },
   "outputs": [],
   "source": [
    "depression_df = depression_df.loc[depression_df['SMKEV_A']!=8]"
   ]
  },
  {
   "cell_type": "code",
   "execution_count": 40,
   "id": "03095a88-14c0-4a42-ad55-87f52adcec18",
   "metadata": {
    "tags": []
   },
   "outputs": [],
   "source": [
    "depression_df = depression_df.loc[depression_df['SMKEV_A']!=9]"
   ]
  },
  {
   "cell_type": "code",
   "execution_count": 41,
   "id": "1e63c48f-17c4-4a8c-9001-71eb2b069cbd",
   "metadata": {
    "tags": []
   },
   "outputs": [],
   "source": [
    "depression_df = depression_df.loc[depression_df['DRKSTAT_A']!=4]"
   ]
  },
  {
   "cell_type": "code",
   "execution_count": 42,
   "id": "3ed45009-b257-40c6-b09e-baccfe9a8278",
   "metadata": {
    "tags": []
   },
   "outputs": [],
   "source": [
    "depression_df = depression_df.loc[depression_df['DRKSTAT_A']!=9]"
   ]
  },
  {
   "cell_type": "code",
   "execution_count": 43,
   "id": "503381f8-d7c7-4503-8d05-f429dcc6502e",
   "metadata": {
    "tags": []
   },
   "outputs": [],
   "source": [
    "depression_df = depression_df.loc[depression_df['DRKSTAT_A']!=10]"
   ]
  },
  {
   "cell_type": "code",
   "execution_count": 44,
   "id": "fa7eeade-8769-45f5-9c9b-7262a63e1c98",
   "metadata": {
    "tags": []
   },
   "outputs": [],
   "source": [
    "depression_df = depression_df.loc[depression_df['PA18_02R_A']!=8]"
   ]
  },
  {
   "cell_type": "code",
   "execution_count": 45,
   "id": "32c08778-dbd2-43f6-91b5-2065bc231d23",
   "metadata": {
    "tags": []
   },
   "outputs": [],
   "source": [
    "depression_df = depression_df.loc[depression_df['SLPHOURS_A']!=97]"
   ]
  },
  {
   "cell_type": "code",
   "execution_count": 46,
   "id": "0c98830c-c4bf-4e07-9819-4af39229bf45",
   "metadata": {
    "tags": []
   },
   "outputs": [],
   "source": [
    "depression_df = depression_df.loc[depression_df['SLPHOURS_A']!=98]"
   ]
  },
  {
   "cell_type": "code",
   "execution_count": 47,
   "id": "e85fb7f7-3ef3-468d-9119-8b9a5682482e",
   "metadata": {
    "tags": []
   },
   "outputs": [],
   "source": [
    "depression_df = depression_df.loc[depression_df['SLPHOURS_A']!=99]"
   ]
  },
  {
   "cell_type": "code",
   "execution_count": 48,
   "id": "4e437f8e-98a9-4e0c-a533-6f70d015d37a",
   "metadata": {
    "tags": []
   },
   "outputs": [],
   "source": [
    "depression_df = depression_df.loc[depression_df['ORIENT_A']!=7]"
   ]
  },
  {
   "cell_type": "code",
   "execution_count": 49,
   "id": "50b9b8d9-9354-41aa-9731-63cddcccec43",
   "metadata": {
    "tags": []
   },
   "outputs": [],
   "source": [
    "depression_df = depression_df.loc[depression_df['ORIENT_A']!=8]"
   ]
  },
  {
   "cell_type": "code",
   "execution_count": 50,
   "id": "17e626ed-646b-454b-b7a9-d29a257da6b8",
   "metadata": {
    "tags": []
   },
   "outputs": [],
   "source": [
    "depression_df = depression_df.loc[depression_df['MARSTAT_A']!=3]"
   ]
  },
  {
   "cell_type": "code",
   "execution_count": 51,
   "id": "c296bf85-5732-4356-9909-615452a08a39",
   "metadata": {
    "tags": []
   },
   "outputs": [],
   "source": [
    "depression_df = depression_df.loc[depression_df['MARSTAT_A']!=9]"
   ]
  },
  {
   "cell_type": "code",
   "execution_count": 52,
   "id": "a0aff6d3-9a54-46df-a9b6-8817b3b83c14",
   "metadata": {
    "tags": []
   },
   "outputs": [],
   "source": [
    "depression_df = depression_df.loc[depression_df['PARSTAT_A']!=9]"
   ]
  },
  {
   "cell_type": "code",
   "execution_count": 53,
   "id": "56d0b4bc-1cbf-4547-83ef-24754943f0a5",
   "metadata": {
    "tags": []
   },
   "outputs": [],
   "source": [
    "depression_df = depression_df.loc[depression_df['EMPLASTWK_A']!=7]"
   ]
  },
  {
   "cell_type": "code",
   "execution_count": 54,
   "id": "c7b13078-5a23-4359-8a1c-a4a815b5c0cb",
   "metadata": {
    "tags": []
   },
   "outputs": [],
   "source": [
    "depression_df = depression_df.loc[depression_df['EMPLASTWK_A']!=8]"
   ]
  },
  {
   "cell_type": "code",
   "execution_count": 55,
   "id": "76e3371b-4c1c-4323-8666-0ca45f398e4b",
   "metadata": {
    "tags": []
   },
   "outputs": [],
   "source": [
    "depression_df = depression_df.loc[depression_df['EMPLASTWK_A']!=9]"
   ]
  },
  {
   "cell_type": "code",
   "execution_count": 56,
   "id": "36fb42b9-0cc4-4703-bf80-c8fdfa86484d",
   "metadata": {
    "tags": []
   },
   "outputs": [],
   "source": [
    "depression_df = depression_df.loc[depression_df['FDSCAT4_A']!=8]"
   ]
  },
  {
   "cell_type": "code",
   "execution_count": 57,
   "id": "2900a6e8-e003-440f-a136-765b4ff35f23",
   "metadata": {
    "tags": []
   },
   "outputs": [
    {
     "name": "stdout",
     "output_type": "stream",
     "text": [
      "<class 'pandas.core.frame.DataFrame'>\n",
      "Index: 5254 entries, 10 to 27630\n",
      "Data columns (total 26 columns):\n",
      " #   Column       Non-Null Count  Dtype  \n",
      "---  ------       --------------  -----  \n",
      " 0   MHTHRPY_A    5254 non-null   int64  \n",
      " 1   URBRRL       5254 non-null   int64  \n",
      " 2   SEX_A        5254 non-null   int64  \n",
      " 3   AGEP_A       5254 non-null   int64  \n",
      " 4   HISPALLP_A   5254 non-null   int64  \n",
      " 5   EDUCP_A      5254 non-null   int64  \n",
      " 6   PHSTAT_A     5254 non-null   int64  \n",
      " 7   LSATIS4_A    5254 non-null   int64  \n",
      " 8   DIFF_A       5254 non-null   int64  \n",
      " 9   COMDIFF_A    5254 non-null   int64  \n",
      " 10  COGMEMDFF_A  5254 non-null   int64  \n",
      " 11  SOCSCLPAR_A  5254 non-null   int64  \n",
      " 12  NOTCOV_A     5254 non-null   int64  \n",
      " 13  PAYWORRY_A   5254 non-null   int64  \n",
      " 14  PHQCAT_A     5254 non-null   int64  \n",
      " 15  GADCAT_A     5254 non-null   int64  \n",
      " 16  SMKEV_A      5254 non-null   int64  \n",
      " 17  DRKSTAT_A    5254 non-null   int64  \n",
      " 18  PA18_02R_A   5254 non-null   int64  \n",
      " 19  SLPHOURS_A   5254 non-null   int64  \n",
      " 20  ORIENT_A     5254 non-null   int64  \n",
      " 21  MARSTAT_A    5254 non-null   int64  \n",
      " 22  PARSTAT_A    5254 non-null   int64  \n",
      " 23  EMPLASTWK_A  5254 non-null   int64  \n",
      " 24  POVRATTC_A   5254 non-null   float64\n",
      " 25  FDSCAT4_A    5254 non-null   int64  \n",
      "dtypes: float64(1), int64(25)\n",
      "memory usage: 1.1 MB\n"
     ]
    }
   ],
   "source": [
    "depression_df.info()"
   ]
  },
  {
   "cell_type": "code",
   "execution_count": 58,
   "id": "f285745f-9989-49ba-9d07-014a0ea22937",
   "metadata": {
    "tags": []
   },
   "outputs": [
    {
     "data": {
      "text/html": [
       "<div>\n",
       "<style scoped>\n",
       "    .dataframe tbody tr th:only-of-type {\n",
       "        vertical-align: middle;\n",
       "    }\n",
       "\n",
       "    .dataframe tbody tr th {\n",
       "        vertical-align: top;\n",
       "    }\n",
       "\n",
       "    .dataframe thead th {\n",
       "        text-align: right;\n",
       "    }\n",
       "</style>\n",
       "<table border=\"1\" class=\"dataframe\">\n",
       "  <thead>\n",
       "    <tr style=\"text-align: right;\">\n",
       "      <th></th>\n",
       "      <th>MHTHRPY_A</th>\n",
       "      <th>URBRRL</th>\n",
       "      <th>SEX_A</th>\n",
       "      <th>AGEP_A</th>\n",
       "      <th>HISPALLP_A</th>\n",
       "      <th>EDUCP_A</th>\n",
       "      <th>PHSTAT_A</th>\n",
       "      <th>LSATIS4_A</th>\n",
       "      <th>DIFF_A</th>\n",
       "      <th>COMDIFF_A</th>\n",
       "      <th>...</th>\n",
       "      <th>SMKEV_A</th>\n",
       "      <th>DRKSTAT_A</th>\n",
       "      <th>PA18_02R_A</th>\n",
       "      <th>SLPHOURS_A</th>\n",
       "      <th>ORIENT_A</th>\n",
       "      <th>MARSTAT_A</th>\n",
       "      <th>PARSTAT_A</th>\n",
       "      <th>EMPLASTWK_A</th>\n",
       "      <th>POVRATTC_A</th>\n",
       "      <th>FDSCAT4_A</th>\n",
       "    </tr>\n",
       "  </thead>\n",
       "  <tbody>\n",
       "    <tr>\n",
       "      <th>count</th>\n",
       "      <td>5254.000000</td>\n",
       "      <td>5254.000000</td>\n",
       "      <td>5254.000000</td>\n",
       "      <td>5254.000000</td>\n",
       "      <td>5254.000000</td>\n",
       "      <td>5254.000000</td>\n",
       "      <td>5254.000000</td>\n",
       "      <td>5254.000000</td>\n",
       "      <td>5254.000000</td>\n",
       "      <td>5254.000000</td>\n",
       "      <td>...</td>\n",
       "      <td>5254.000000</td>\n",
       "      <td>5254.000000</td>\n",
       "      <td>5254.000000</td>\n",
       "      <td>5254.000000</td>\n",
       "      <td>5254.000000</td>\n",
       "      <td>5254.000000</td>\n",
       "      <td>5254.000000</td>\n",
       "      <td>5254.000000</td>\n",
       "      <td>5254.000000</td>\n",
       "      <td>5254.000000</td>\n",
       "    </tr>\n",
       "    <tr>\n",
       "      <th>mean</th>\n",
       "      <td>1.684812</td>\n",
       "      <td>2.384469</td>\n",
       "      <td>1.614579</td>\n",
       "      <td>50.723258</td>\n",
       "      <td>2.204987</td>\n",
       "      <td>5.659878</td>\n",
       "      <td>3.047773</td>\n",
       "      <td>1.979064</td>\n",
       "      <td>1.584317</td>\n",
       "      <td>1.145032</td>\n",
       "      <td>...</td>\n",
       "      <td>1.545299</td>\n",
       "      <td>4.899124</td>\n",
       "      <td>1.980586</td>\n",
       "      <td>6.810240</td>\n",
       "      <td>2.101256</td>\n",
       "      <td>4.296536</td>\n",
       "      <td>2.565093</td>\n",
       "      <td>1.527979</td>\n",
       "      <td>3.451035</td>\n",
       "      <td>1.558241</td>\n",
       "    </tr>\n",
       "    <tr>\n",
       "      <th>std</th>\n",
       "      <td>0.464635</td>\n",
       "      <td>1.079672</td>\n",
       "      <td>0.486741</td>\n",
       "      <td>18.871885</td>\n",
       "      <td>0.992666</td>\n",
       "      <td>2.424147</td>\n",
       "      <td>1.114176</td>\n",
       "      <td>0.649165</td>\n",
       "      <td>0.812306</td>\n",
       "      <td>0.405907</td>\n",
       "      <td>...</td>\n",
       "      <td>0.497991</td>\n",
       "      <td>2.152325</td>\n",
       "      <td>0.858771</td>\n",
       "      <td>1.950453</td>\n",
       "      <td>0.527221</td>\n",
       "      <td>2.642259</td>\n",
       "      <td>0.801583</td>\n",
       "      <td>0.499264</td>\n",
       "      <td>2.776988</td>\n",
       "      <td>0.994529</td>\n",
       "    </tr>\n",
       "    <tr>\n",
       "      <th>min</th>\n",
       "      <td>1.000000</td>\n",
       "      <td>1.000000</td>\n",
       "      <td>1.000000</td>\n",
       "      <td>18.000000</td>\n",
       "      <td>1.000000</td>\n",
       "      <td>1.000000</td>\n",
       "      <td>1.000000</td>\n",
       "      <td>1.000000</td>\n",
       "      <td>1.000000</td>\n",
       "      <td>1.000000</td>\n",
       "      <td>...</td>\n",
       "      <td>1.000000</td>\n",
       "      <td>1.000000</td>\n",
       "      <td>1.000000</td>\n",
       "      <td>1.000000</td>\n",
       "      <td>1.000000</td>\n",
       "      <td>1.000000</td>\n",
       "      <td>1.000000</td>\n",
       "      <td>1.000000</td>\n",
       "      <td>0.000000</td>\n",
       "      <td>1.000000</td>\n",
       "    </tr>\n",
       "    <tr>\n",
       "      <th>25%</th>\n",
       "      <td>1.000000</td>\n",
       "      <td>1.000000</td>\n",
       "      <td>1.000000</td>\n",
       "      <td>34.000000</td>\n",
       "      <td>2.000000</td>\n",
       "      <td>4.000000</td>\n",
       "      <td>2.000000</td>\n",
       "      <td>2.000000</td>\n",
       "      <td>1.000000</td>\n",
       "      <td>1.000000</td>\n",
       "      <td>...</td>\n",
       "      <td>1.000000</td>\n",
       "      <td>3.000000</td>\n",
       "      <td>1.000000</td>\n",
       "      <td>6.000000</td>\n",
       "      <td>2.000000</td>\n",
       "      <td>1.000000</td>\n",
       "      <td>3.000000</td>\n",
       "      <td>1.000000</td>\n",
       "      <td>1.380000</td>\n",
       "      <td>1.000000</td>\n",
       "    </tr>\n",
       "    <tr>\n",
       "      <th>50%</th>\n",
       "      <td>2.000000</td>\n",
       "      <td>2.000000</td>\n",
       "      <td>2.000000</td>\n",
       "      <td>51.000000</td>\n",
       "      <td>2.000000</td>\n",
       "      <td>5.000000</td>\n",
       "      <td>3.000000</td>\n",
       "      <td>2.000000</td>\n",
       "      <td>1.000000</td>\n",
       "      <td>1.000000</td>\n",
       "      <td>...</td>\n",
       "      <td>2.000000</td>\n",
       "      <td>6.000000</td>\n",
       "      <td>2.000000</td>\n",
       "      <td>7.000000</td>\n",
       "      <td>2.000000</td>\n",
       "      <td>5.000000</td>\n",
       "      <td>3.000000</td>\n",
       "      <td>2.000000</td>\n",
       "      <td>2.560000</td>\n",
       "      <td>1.000000</td>\n",
       "    </tr>\n",
       "    <tr>\n",
       "      <th>75%</th>\n",
       "      <td>2.000000</td>\n",
       "      <td>3.000000</td>\n",
       "      <td>2.000000</td>\n",
       "      <td>66.000000</td>\n",
       "      <td>2.000000</td>\n",
       "      <td>8.000000</td>\n",
       "      <td>4.000000</td>\n",
       "      <td>2.000000</td>\n",
       "      <td>2.000000</td>\n",
       "      <td>1.000000</td>\n",
       "      <td>...</td>\n",
       "      <td>2.000000</td>\n",
       "      <td>6.000000</td>\n",
       "      <td>3.000000</td>\n",
       "      <td>8.000000</td>\n",
       "      <td>2.000000</td>\n",
       "      <td>7.000000</td>\n",
       "      <td>3.000000</td>\n",
       "      <td>2.000000</td>\n",
       "      <td>4.680000</td>\n",
       "      <td>2.000000</td>\n",
       "    </tr>\n",
       "    <tr>\n",
       "      <th>max</th>\n",
       "      <td>2.000000</td>\n",
       "      <td>4.000000</td>\n",
       "      <td>2.000000</td>\n",
       "      <td>85.000000</td>\n",
       "      <td>7.000000</td>\n",
       "      <td>10.000000</td>\n",
       "      <td>5.000000</td>\n",
       "      <td>4.000000</td>\n",
       "      <td>4.000000</td>\n",
       "      <td>4.000000</td>\n",
       "      <td>...</td>\n",
       "      <td>2.000000</td>\n",
       "      <td>8.000000</td>\n",
       "      <td>3.000000</td>\n",
       "      <td>20.000000</td>\n",
       "      <td>5.000000</td>\n",
       "      <td>8.000000</td>\n",
       "      <td>3.000000</td>\n",
       "      <td>2.000000</td>\n",
       "      <td>11.000000</td>\n",
       "      <td>4.000000</td>\n",
       "    </tr>\n",
       "  </tbody>\n",
       "</table>\n",
       "<p>8 rows × 26 columns</p>\n",
       "</div>"
      ],
      "text/plain": [
       "         MHTHRPY_A       URBRRL        SEX_A       AGEP_A   HISPALLP_A  \\\n",
       "count  5254.000000  5254.000000  5254.000000  5254.000000  5254.000000   \n",
       "mean      1.684812     2.384469     1.614579    50.723258     2.204987   \n",
       "std       0.464635     1.079672     0.486741    18.871885     0.992666   \n",
       "min       1.000000     1.000000     1.000000    18.000000     1.000000   \n",
       "25%       1.000000     1.000000     1.000000    34.000000     2.000000   \n",
       "50%       2.000000     2.000000     2.000000    51.000000     2.000000   \n",
       "75%       2.000000     3.000000     2.000000    66.000000     2.000000   \n",
       "max       2.000000     4.000000     2.000000    85.000000     7.000000   \n",
       "\n",
       "           EDUCP_A     PHSTAT_A    LSATIS4_A       DIFF_A    COMDIFF_A  ...  \\\n",
       "count  5254.000000  5254.000000  5254.000000  5254.000000  5254.000000  ...   \n",
       "mean      5.659878     3.047773     1.979064     1.584317     1.145032  ...   \n",
       "std       2.424147     1.114176     0.649165     0.812306     0.405907  ...   \n",
       "min       1.000000     1.000000     1.000000     1.000000     1.000000  ...   \n",
       "25%       4.000000     2.000000     2.000000     1.000000     1.000000  ...   \n",
       "50%       5.000000     3.000000     2.000000     1.000000     1.000000  ...   \n",
       "75%       8.000000     4.000000     2.000000     2.000000     1.000000  ...   \n",
       "max      10.000000     5.000000     4.000000     4.000000     4.000000  ...   \n",
       "\n",
       "           SMKEV_A    DRKSTAT_A   PA18_02R_A   SLPHOURS_A     ORIENT_A  \\\n",
       "count  5254.000000  5254.000000  5254.000000  5254.000000  5254.000000   \n",
       "mean      1.545299     4.899124     1.980586     6.810240     2.101256   \n",
       "std       0.497991     2.152325     0.858771     1.950453     0.527221   \n",
       "min       1.000000     1.000000     1.000000     1.000000     1.000000   \n",
       "25%       1.000000     3.000000     1.000000     6.000000     2.000000   \n",
       "50%       2.000000     6.000000     2.000000     7.000000     2.000000   \n",
       "75%       2.000000     6.000000     3.000000     8.000000     2.000000   \n",
       "max       2.000000     8.000000     3.000000    20.000000     5.000000   \n",
       "\n",
       "         MARSTAT_A    PARSTAT_A  EMPLASTWK_A   POVRATTC_A    FDSCAT4_A  \n",
       "count  5254.000000  5254.000000  5254.000000  5254.000000  5254.000000  \n",
       "mean      4.296536     2.565093     1.527979     3.451035     1.558241  \n",
       "std       2.642259     0.801583     0.499264     2.776988     0.994529  \n",
       "min       1.000000     1.000000     1.000000     0.000000     1.000000  \n",
       "25%       1.000000     3.000000     1.000000     1.380000     1.000000  \n",
       "50%       5.000000     3.000000     2.000000     2.560000     1.000000  \n",
       "75%       7.000000     3.000000     2.000000     4.680000     2.000000  \n",
       "max       8.000000     3.000000     2.000000    11.000000     4.000000  \n",
       "\n",
       "[8 rows x 26 columns]"
      ]
     },
     "execution_count": 58,
     "metadata": {},
     "output_type": "execute_result"
    }
   ],
   "source": [
    "depression_df.describe()"
   ]
  },
  {
   "cell_type": "code",
   "execution_count": 59,
   "id": "11c8f547-91f2-4354-8ce6-23f65bef3aca",
   "metadata": {
    "tags": []
   },
   "outputs": [
    {
     "data": {
      "text/plain": [
       "MHTHRPY_A\n",
       "2    3598\n",
       "1    1656\n",
       "Name: count, dtype: int64"
      ]
     },
     "execution_count": 59,
     "metadata": {},
     "output_type": "execute_result"
    }
   ],
   "source": [
    "depression_df['MHTHRPY_A'].value_counts()"
   ]
  },
  {
   "cell_type": "code",
   "execution_count": 60,
   "id": "c035b5aa-b5df-4060-9e29-32476da0a449",
   "metadata": {
    "tags": []
   },
   "outputs": [
    {
     "data": {
      "text/plain": [
       "MHTHRPY_A      1.000000\n",
       "URBRRL         0.066288\n",
       "SEX_A         -0.053246\n",
       "AGEP_A         0.233444\n",
       "HISPALLP_A     0.010095\n",
       "EDUCP_A       -0.134745\n",
       "PHSTAT_A       0.053362\n",
       "LSATIS4_A     -0.041447\n",
       "DIFF_A         0.092619\n",
       "COMDIFF_A      0.009260\n",
       "COGMEMDFF_A   -0.088655\n",
       "SOCSCLPAR_A   -0.078835\n",
       "NOTCOV_A      -0.044283\n",
       "PAYWORRY_A     0.015200\n",
       "PHQCAT_A      -0.160942\n",
       "GADCAT_A      -0.217115\n",
       "SMKEV_A       -0.015620\n",
       "DRKSTAT_A     -0.046076\n",
       "PA18_02R_A    -0.082608\n",
       "SLPHOURS_A    -0.001311\n",
       "ORIENT_A      -0.053093\n",
       "MARSTAT_A     -0.111325\n",
       "PARSTAT_A      0.073498\n",
       "EMPLASTWK_A    0.051152\n",
       "POVRATTC_A    -0.027831\n",
       "FDSCAT4_A     -0.047192\n",
       "dtype: float64"
      ]
     },
     "execution_count": 60,
     "metadata": {},
     "output_type": "execute_result"
    }
   ],
   "source": [
    "depression_df.corrwith(depression_df['MHTHRPY_A'])"
   ]
  },
  {
   "cell_type": "code",
   "execution_count": 61,
   "id": "244ee4ec-8e44-4ebf-a27d-3372d40880be",
   "metadata": {},
   "outputs": [
    {
     "data": {
      "text/html": [
       "<div>\n",
       "<style scoped>\n",
       "    .dataframe tbody tr th:only-of-type {\n",
       "        vertical-align: middle;\n",
       "    }\n",
       "\n",
       "    .dataframe tbody tr th {\n",
       "        vertical-align: top;\n",
       "    }\n",
       "\n",
       "    .dataframe thead th {\n",
       "        text-align: right;\n",
       "    }\n",
       "</style>\n",
       "<table border=\"1\" class=\"dataframe\">\n",
       "  <thead>\n",
       "    <tr style=\"text-align: right;\">\n",
       "      <th></th>\n",
       "      <th>MHTHRPY_A</th>\n",
       "      <th>URBRRL</th>\n",
       "      <th>SEX_A</th>\n",
       "      <th>AGEP_A</th>\n",
       "      <th>HISPALLP_A</th>\n",
       "      <th>EDUCP_A</th>\n",
       "      <th>PHSTAT_A</th>\n",
       "      <th>LSATIS4_A</th>\n",
       "      <th>DIFF_A</th>\n",
       "      <th>COMDIFF_A</th>\n",
       "      <th>...</th>\n",
       "      <th>SMKEV_A</th>\n",
       "      <th>DRKSTAT_A</th>\n",
       "      <th>PA18_02R_A</th>\n",
       "      <th>SLPHOURS_A</th>\n",
       "      <th>ORIENT_A</th>\n",
       "      <th>MARSTAT_A</th>\n",
       "      <th>PARSTAT_A</th>\n",
       "      <th>EMPLASTWK_A</th>\n",
       "      <th>POVRATTC_A</th>\n",
       "      <th>FDSCAT4_A</th>\n",
       "    </tr>\n",
       "  </thead>\n",
       "  <tbody>\n",
       "    <tr>\n",
       "      <th>MHTHRPY_A</th>\n",
       "      <td>1.000000</td>\n",
       "      <td>0.066288</td>\n",
       "      <td>-0.053246</td>\n",
       "      <td>0.233444</td>\n",
       "      <td>0.010095</td>\n",
       "      <td>-0.134745</td>\n",
       "      <td>0.053362</td>\n",
       "      <td>-0.041447</td>\n",
       "      <td>0.092619</td>\n",
       "      <td>0.009260</td>\n",
       "      <td>...</td>\n",
       "      <td>-0.015620</td>\n",
       "      <td>-0.046076</td>\n",
       "      <td>-0.082608</td>\n",
       "      <td>-0.001311</td>\n",
       "      <td>-0.053093</td>\n",
       "      <td>-0.111325</td>\n",
       "      <td>0.073498</td>\n",
       "      <td>0.051152</td>\n",
       "      <td>-0.027831</td>\n",
       "      <td>-0.047192</td>\n",
       "    </tr>\n",
       "    <tr>\n",
       "      <th>URBRRL</th>\n",
       "      <td>0.066288</td>\n",
       "      <td>1.000000</td>\n",
       "      <td>0.012515</td>\n",
       "      <td>0.083760</td>\n",
       "      <td>-0.024170</td>\n",
       "      <td>-0.171214</td>\n",
       "      <td>0.084585</td>\n",
       "      <td>0.000079</td>\n",
       "      <td>0.083499</td>\n",
       "      <td>0.043454</td>\n",
       "      <td>...</td>\n",
       "      <td>-0.115603</td>\n",
       "      <td>-0.064818</td>\n",
       "      <td>-0.113290</td>\n",
       "      <td>0.007080</td>\n",
       "      <td>-0.006200</td>\n",
       "      <td>-0.084214</td>\n",
       "      <td>-0.006486</td>\n",
       "      <td>0.102587</td>\n",
       "      <td>-0.182300</td>\n",
       "      <td>0.055377</td>\n",
       "    </tr>\n",
       "    <tr>\n",
       "      <th>SEX_A</th>\n",
       "      <td>-0.053246</td>\n",
       "      <td>0.012515</td>\n",
       "      <td>1.000000</td>\n",
       "      <td>0.023721</td>\n",
       "      <td>-0.023995</td>\n",
       "      <td>0.026339</td>\n",
       "      <td>-0.037300</td>\n",
       "      <td>-0.056871</td>\n",
       "      <td>0.041523</td>\n",
       "      <td>-0.078345</td>\n",
       "      <td>...</td>\n",
       "      <td>0.114059</td>\n",
       "      <td>-0.120889</td>\n",
       "      <td>-0.072100</td>\n",
       "      <td>0.013983</td>\n",
       "      <td>0.074957</td>\n",
       "      <td>-0.031012</td>\n",
       "      <td>-0.104749</td>\n",
       "      <td>0.043991</td>\n",
       "      <td>-0.061136</td>\n",
       "      <td>0.027701</td>\n",
       "    </tr>\n",
       "    <tr>\n",
       "      <th>AGEP_A</th>\n",
       "      <td>0.233444</td>\n",
       "      <td>0.083760</td>\n",
       "      <td>0.023721</td>\n",
       "      <td>1.000000</td>\n",
       "      <td>-0.046378</td>\n",
       "      <td>-0.091936</td>\n",
       "      <td>0.349303</td>\n",
       "      <td>0.076150</td>\n",
       "      <td>0.483707</td>\n",
       "      <td>0.126714</td>\n",
       "      <td>...</td>\n",
       "      <td>-0.167034</td>\n",
       "      <td>-0.229746</td>\n",
       "      <td>-0.283887</td>\n",
       "      <td>0.119635</td>\n",
       "      <td>-0.152123</td>\n",
       "      <td>-0.325084</td>\n",
       "      <td>0.341420</td>\n",
       "      <td>0.505994</td>\n",
       "      <td>-0.048990</td>\n",
       "      <td>-0.098957</td>\n",
       "    </tr>\n",
       "    <tr>\n",
       "      <th>HISPALLP_A</th>\n",
       "      <td>0.010095</td>\n",
       "      <td>-0.024170</td>\n",
       "      <td>-0.023995</td>\n",
       "      <td>-0.046378</td>\n",
       "      <td>1.000000</td>\n",
       "      <td>0.043614</td>\n",
       "      <td>-0.011610</td>\n",
       "      <td>0.001048</td>\n",
       "      <td>-0.018960</td>\n",
       "      <td>0.030143</td>\n",
       "      <td>...</td>\n",
       "      <td>0.008747</td>\n",
       "      <td>-0.002170</td>\n",
       "      <td>0.026777</td>\n",
       "      <td>-0.022578</td>\n",
       "      <td>0.011621</td>\n",
       "      <td>0.065367</td>\n",
       "      <td>0.002965</td>\n",
       "      <td>0.007439</td>\n",
       "      <td>0.014388</td>\n",
       "      <td>0.022325</td>\n",
       "    </tr>\n",
       "    <tr>\n",
       "      <th>EDUCP_A</th>\n",
       "      <td>-0.134745</td>\n",
       "      <td>-0.171214</td>\n",
       "      <td>0.026339</td>\n",
       "      <td>-0.091936</td>\n",
       "      <td>0.043614</td>\n",
       "      <td>1.000000</td>\n",
       "      <td>-0.253851</td>\n",
       "      <td>-0.106867</td>\n",
       "      <td>-0.216922</td>\n",
       "      <td>-0.178343</td>\n",
       "      <td>...</td>\n",
       "      <td>0.175898</td>\n",
       "      <td>0.221788</td>\n",
       "      <td>0.224890</td>\n",
       "      <td>0.000680</td>\n",
       "      <td>-0.026075</td>\n",
       "      <td>-0.067825</td>\n",
       "      <td>-0.045573</td>\n",
       "      <td>-0.246711</td>\n",
       "      <td>0.462273</td>\n",
       "      <td>-0.236760</td>\n",
       "    </tr>\n",
       "    <tr>\n",
       "      <th>PHSTAT_A</th>\n",
       "      <td>0.053362</td>\n",
       "      <td>0.084585</td>\n",
       "      <td>-0.037300</td>\n",
       "      <td>0.349303</td>\n",
       "      <td>-0.011610</td>\n",
       "      <td>-0.253851</td>\n",
       "      <td>1.000000</td>\n",
       "      <td>0.314853</td>\n",
       "      <td>0.509090</td>\n",
       "      <td>0.194722</td>\n",
       "      <td>...</td>\n",
       "      <td>-0.164299</td>\n",
       "      <td>-0.224710</td>\n",
       "      <td>-0.333479</td>\n",
       "      <td>0.029752</td>\n",
       "      <td>-0.004023</td>\n",
       "      <td>-0.056480</td>\n",
       "      <td>0.165654</td>\n",
       "      <td>0.359497</td>\n",
       "      <td>-0.253972</td>\n",
       "      <td>0.179166</td>\n",
       "    </tr>\n",
       "    <tr>\n",
       "      <th>LSATIS4_A</th>\n",
       "      <td>-0.041447</td>\n",
       "      <td>0.000079</td>\n",
       "      <td>-0.056871</td>\n",
       "      <td>0.076150</td>\n",
       "      <td>0.001048</td>\n",
       "      <td>-0.106867</td>\n",
       "      <td>0.314853</td>\n",
       "      <td>1.000000</td>\n",
       "      <td>0.178437</td>\n",
       "      <td>0.106167</td>\n",
       "      <td>...</td>\n",
       "      <td>-0.088340</td>\n",
       "      <td>-0.050697</td>\n",
       "      <td>-0.135271</td>\n",
       "      <td>0.003627</td>\n",
       "      <td>0.030669</td>\n",
       "      <td>0.139798</td>\n",
       "      <td>0.122248</td>\n",
       "      <td>0.122217</td>\n",
       "      <td>-0.186845</td>\n",
       "      <td>0.171140</td>\n",
       "    </tr>\n",
       "    <tr>\n",
       "      <th>DIFF_A</th>\n",
       "      <td>0.092619</td>\n",
       "      <td>0.083499</td>\n",
       "      <td>0.041523</td>\n",
       "      <td>0.483707</td>\n",
       "      <td>-0.018960</td>\n",
       "      <td>-0.216922</td>\n",
       "      <td>0.509090</td>\n",
       "      <td>0.178437</td>\n",
       "      <td>1.000000</td>\n",
       "      <td>0.205974</td>\n",
       "      <td>...</td>\n",
       "      <td>-0.124270</td>\n",
       "      <td>-0.253190</td>\n",
       "      <td>-0.351871</td>\n",
       "      <td>0.087299</td>\n",
       "      <td>-0.035497</td>\n",
       "      <td>-0.102297</td>\n",
       "      <td>0.206749</td>\n",
       "      <td>0.434713</td>\n",
       "      <td>-0.203232</td>\n",
       "      <td>0.092419</td>\n",
       "    </tr>\n",
       "    <tr>\n",
       "      <th>COMDIFF_A</th>\n",
       "      <td>0.009260</td>\n",
       "      <td>0.043454</td>\n",
       "      <td>-0.078345</td>\n",
       "      <td>0.126714</td>\n",
       "      <td>0.030143</td>\n",
       "      <td>-0.178343</td>\n",
       "      <td>0.194722</td>\n",
       "      <td>0.106167</td>\n",
       "      <td>0.205974</td>\n",
       "      <td>1.000000</td>\n",
       "      <td>...</td>\n",
       "      <td>-0.031566</td>\n",
       "      <td>-0.135345</td>\n",
       "      <td>-0.082577</td>\n",
       "      <td>0.102096</td>\n",
       "      <td>0.029216</td>\n",
       "      <td>0.030004</td>\n",
       "      <td>0.100283</td>\n",
       "      <td>0.180998</td>\n",
       "      <td>-0.128037</td>\n",
       "      <td>0.078102</td>\n",
       "    </tr>\n",
       "    <tr>\n",
       "      <th>COGMEMDFF_A</th>\n",
       "      <td>-0.088655</td>\n",
       "      <td>0.052110</td>\n",
       "      <td>-0.002614</td>\n",
       "      <td>0.132830</td>\n",
       "      <td>-0.013473</td>\n",
       "      <td>-0.155091</td>\n",
       "      <td>0.276412</td>\n",
       "      <td>0.193484</td>\n",
       "      <td>0.243748</td>\n",
       "      <td>0.289909</td>\n",
       "      <td>...</td>\n",
       "      <td>-0.090965</td>\n",
       "      <td>-0.113395</td>\n",
       "      <td>-0.124049</td>\n",
       "      <td>0.058469</td>\n",
       "      <td>0.041015</td>\n",
       "      <td>0.027075</td>\n",
       "      <td>0.099811</td>\n",
       "      <td>0.194478</td>\n",
       "      <td>-0.158229</td>\n",
       "      <td>0.112436</td>\n",
       "    </tr>\n",
       "    <tr>\n",
       "      <th>SOCSCLPAR_A</th>\n",
       "      <td>-0.078835</td>\n",
       "      <td>0.067924</td>\n",
       "      <td>0.019282</td>\n",
       "      <td>0.157160</td>\n",
       "      <td>0.002848</td>\n",
       "      <td>-0.187773</td>\n",
       "      <td>0.345971</td>\n",
       "      <td>0.241156</td>\n",
       "      <td>0.431975</td>\n",
       "      <td>0.292157</td>\n",
       "      <td>...</td>\n",
       "      <td>-0.077210</td>\n",
       "      <td>-0.203812</td>\n",
       "      <td>-0.223128</td>\n",
       "      <td>0.087169</td>\n",
       "      <td>0.048887</td>\n",
       "      <td>0.028182</td>\n",
       "      <td>0.109704</td>\n",
       "      <td>0.281987</td>\n",
       "      <td>-0.200898</td>\n",
       "      <td>0.138127</td>\n",
       "    </tr>\n",
       "    <tr>\n",
       "      <th>NOTCOV_A</th>\n",
       "      <td>-0.044283</td>\n",
       "      <td>-0.002390</td>\n",
       "      <td>0.049487</td>\n",
       "      <td>0.169011</td>\n",
       "      <td>0.038116</td>\n",
       "      <td>0.110081</td>\n",
       "      <td>0.040649</td>\n",
       "      <td>-0.034223</td>\n",
       "      <td>0.083258</td>\n",
       "      <td>0.021536</td>\n",
       "      <td>...</td>\n",
       "      <td>0.016494</td>\n",
       "      <td>-0.030554</td>\n",
       "      <td>-0.020143</td>\n",
       "      <td>0.035063</td>\n",
       "      <td>-0.024549</td>\n",
       "      <td>-0.102080</td>\n",
       "      <td>0.056302</td>\n",
       "      <td>0.080664</td>\n",
       "      <td>0.104149</td>\n",
       "      <td>-0.105173</td>\n",
       "    </tr>\n",
       "    <tr>\n",
       "      <th>PAYWORRY_A</th>\n",
       "      <td>0.015200</td>\n",
       "      <td>-0.012905</td>\n",
       "      <td>-0.029414</td>\n",
       "      <td>0.145432</td>\n",
       "      <td>0.032548</td>\n",
       "      <td>0.082935</td>\n",
       "      <td>-0.064172</td>\n",
       "      <td>-0.106856</td>\n",
       "      <td>0.015069</td>\n",
       "      <td>0.001226</td>\n",
       "      <td>...</td>\n",
       "      <td>0.031608</td>\n",
       "      <td>-0.046923</td>\n",
       "      <td>0.017477</td>\n",
       "      <td>0.085772</td>\n",
       "      <td>-0.032649</td>\n",
       "      <td>-0.074858</td>\n",
       "      <td>0.040561</td>\n",
       "      <td>0.104993</td>\n",
       "      <td>0.163239</td>\n",
       "      <td>-0.250368</td>\n",
       "    </tr>\n",
       "    <tr>\n",
       "      <th>PHQCAT_A</th>\n",
       "      <td>-0.160942</td>\n",
       "      <td>0.036816</td>\n",
       "      <td>0.036927</td>\n",
       "      <td>-0.023155</td>\n",
       "      <td>-0.030603</td>\n",
       "      <td>-0.127454</td>\n",
       "      <td>0.250626</td>\n",
       "      <td>0.293653</td>\n",
       "      <td>0.169078</td>\n",
       "      <td>0.119970</td>\n",
       "      <td>...</td>\n",
       "      <td>-0.092875</td>\n",
       "      <td>-0.054551</td>\n",
       "      <td>-0.127472</td>\n",
       "      <td>-0.052608</td>\n",
       "      <td>0.065847</td>\n",
       "      <td>0.079483</td>\n",
       "      <td>0.053258</td>\n",
       "      <td>0.099524</td>\n",
       "      <td>-0.141780</td>\n",
       "      <td>0.200633</td>\n",
       "    </tr>\n",
       "    <tr>\n",
       "      <th>GADCAT_A</th>\n",
       "      <td>-0.217115</td>\n",
       "      <td>0.041833</td>\n",
       "      <td>0.046896</td>\n",
       "      <td>-0.197474</td>\n",
       "      <td>-0.019851</td>\n",
       "      <td>-0.078270</td>\n",
       "      <td>0.104456</td>\n",
       "      <td>0.196848</td>\n",
       "      <td>0.013179</td>\n",
       "      <td>0.079510</td>\n",
       "      <td>...</td>\n",
       "      <td>-0.054400</td>\n",
       "      <td>0.007025</td>\n",
       "      <td>-0.022895</td>\n",
       "      <td>-0.119978</td>\n",
       "      <td>0.061541</td>\n",
       "      <td>0.086116</td>\n",
       "      <td>-0.069552</td>\n",
       "      <td>-0.012877</td>\n",
       "      <td>-0.106748</td>\n",
       "      <td>0.199131</td>\n",
       "    </tr>\n",
       "    <tr>\n",
       "      <th>SMKEV_A</th>\n",
       "      <td>-0.015620</td>\n",
       "      <td>-0.115603</td>\n",
       "      <td>0.114059</td>\n",
       "      <td>-0.167034</td>\n",
       "      <td>0.008747</td>\n",
       "      <td>0.175898</td>\n",
       "      <td>-0.164299</td>\n",
       "      <td>-0.088340</td>\n",
       "      <td>-0.124270</td>\n",
       "      <td>-0.031566</td>\n",
       "      <td>...</td>\n",
       "      <td>1.000000</td>\n",
       "      <td>-0.108695</td>\n",
       "      <td>0.099097</td>\n",
       "      <td>0.006010</td>\n",
       "      <td>0.011529</td>\n",
       "      <td>-0.000517</td>\n",
       "      <td>-0.047209</td>\n",
       "      <td>-0.124543</td>\n",
       "      <td>0.131268</td>\n",
       "      <td>-0.110070</td>\n",
       "    </tr>\n",
       "    <tr>\n",
       "      <th>DRKSTAT_A</th>\n",
       "      <td>-0.046076</td>\n",
       "      <td>-0.064818</td>\n",
       "      <td>-0.120889</td>\n",
       "      <td>-0.229746</td>\n",
       "      <td>-0.002170</td>\n",
       "      <td>0.221788</td>\n",
       "      <td>-0.224710</td>\n",
       "      <td>-0.050697</td>\n",
       "      <td>-0.253190</td>\n",
       "      <td>-0.135345</td>\n",
       "      <td>...</td>\n",
       "      <td>-0.108695</td>\n",
       "      <td>1.000000</td>\n",
       "      <td>0.211209</td>\n",
       "      <td>-0.056075</td>\n",
       "      <td>-0.030421</td>\n",
       "      <td>0.059623</td>\n",
       "      <td>-0.060963</td>\n",
       "      <td>-0.279936</td>\n",
       "      <td>0.219402</td>\n",
       "      <td>-0.053016</td>\n",
       "    </tr>\n",
       "    <tr>\n",
       "      <th>PA18_02R_A</th>\n",
       "      <td>-0.082608</td>\n",
       "      <td>-0.113290</td>\n",
       "      <td>-0.072100</td>\n",
       "      <td>-0.283887</td>\n",
       "      <td>0.026777</td>\n",
       "      <td>0.224890</td>\n",
       "      <td>-0.333479</td>\n",
       "      <td>-0.135271</td>\n",
       "      <td>-0.351871</td>\n",
       "      <td>-0.082577</td>\n",
       "      <td>...</td>\n",
       "      <td>0.099097</td>\n",
       "      <td>0.211209</td>\n",
       "      <td>1.000000</td>\n",
       "      <td>-0.062322</td>\n",
       "      <td>0.006865</td>\n",
       "      <td>0.062691</td>\n",
       "      <td>-0.075320</td>\n",
       "      <td>-0.249594</td>\n",
       "      <td>0.197141</td>\n",
       "      <td>-0.076243</td>\n",
       "    </tr>\n",
       "    <tr>\n",
       "      <th>SLPHOURS_A</th>\n",
       "      <td>-0.001311</td>\n",
       "      <td>0.007080</td>\n",
       "      <td>0.013983</td>\n",
       "      <td>0.119635</td>\n",
       "      <td>-0.022578</td>\n",
       "      <td>0.000680</td>\n",
       "      <td>0.029752</td>\n",
       "      <td>0.003627</td>\n",
       "      <td>0.087299</td>\n",
       "      <td>0.102096</td>\n",
       "      <td>...</td>\n",
       "      <td>0.006010</td>\n",
       "      <td>-0.056075</td>\n",
       "      <td>-0.062322</td>\n",
       "      <td>1.000000</td>\n",
       "      <td>-0.001860</td>\n",
       "      <td>-0.029342</td>\n",
       "      <td>0.089178</td>\n",
       "      <td>0.105251</td>\n",
       "      <td>0.028007</td>\n",
       "      <td>-0.089349</td>\n",
       "    </tr>\n",
       "    <tr>\n",
       "      <th>ORIENT_A</th>\n",
       "      <td>-0.053093</td>\n",
       "      <td>-0.006200</td>\n",
       "      <td>0.074957</td>\n",
       "      <td>-0.152123</td>\n",
       "      <td>0.011621</td>\n",
       "      <td>-0.026075</td>\n",
       "      <td>-0.004023</td>\n",
       "      <td>0.030669</td>\n",
       "      <td>-0.035497</td>\n",
       "      <td>0.029216</td>\n",
       "      <td>...</td>\n",
       "      <td>0.011529</td>\n",
       "      <td>-0.030421</td>\n",
       "      <td>0.006865</td>\n",
       "      <td>-0.001860</td>\n",
       "      <td>1.000000</td>\n",
       "      <td>0.092958</td>\n",
       "      <td>0.000617</td>\n",
       "      <td>-0.023783</td>\n",
       "      <td>-0.048000</td>\n",
       "      <td>0.028688</td>\n",
       "    </tr>\n",
       "    <tr>\n",
       "      <th>MARSTAT_A</th>\n",
       "      <td>-0.111325</td>\n",
       "      <td>-0.084214</td>\n",
       "      <td>-0.031012</td>\n",
       "      <td>-0.325084</td>\n",
       "      <td>0.065367</td>\n",
       "      <td>-0.067825</td>\n",
       "      <td>-0.056480</td>\n",
       "      <td>0.139798</td>\n",
       "      <td>-0.102297</td>\n",
       "      <td>0.030004</td>\n",
       "      <td>...</td>\n",
       "      <td>-0.000517</td>\n",
       "      <td>0.059623</td>\n",
       "      <td>0.062691</td>\n",
       "      <td>-0.029342</td>\n",
       "      <td>0.092958</td>\n",
       "      <td>1.000000</td>\n",
       "      <td>0.145480</td>\n",
       "      <td>-0.114088</td>\n",
       "      <td>-0.209965</td>\n",
       "      <td>0.142081</td>\n",
       "    </tr>\n",
       "    <tr>\n",
       "      <th>PARSTAT_A</th>\n",
       "      <td>0.073498</td>\n",
       "      <td>-0.006486</td>\n",
       "      <td>-0.104749</td>\n",
       "      <td>0.341420</td>\n",
       "      <td>0.002965</td>\n",
       "      <td>-0.045573</td>\n",
       "      <td>0.165654</td>\n",
       "      <td>0.122248</td>\n",
       "      <td>0.206749</td>\n",
       "      <td>0.100283</td>\n",
       "      <td>...</td>\n",
       "      <td>-0.047209</td>\n",
       "      <td>-0.060963</td>\n",
       "      <td>-0.075320</td>\n",
       "      <td>0.089178</td>\n",
       "      <td>0.000617</td>\n",
       "      <td>0.145480</td>\n",
       "      <td>1.000000</td>\n",
       "      <td>0.192379</td>\n",
       "      <td>0.028340</td>\n",
       "      <td>-0.037113</td>\n",
       "    </tr>\n",
       "    <tr>\n",
       "      <th>EMPLASTWK_A</th>\n",
       "      <td>0.051152</td>\n",
       "      <td>0.102587</td>\n",
       "      <td>0.043991</td>\n",
       "      <td>0.505994</td>\n",
       "      <td>0.007439</td>\n",
       "      <td>-0.246711</td>\n",
       "      <td>0.359497</td>\n",
       "      <td>0.122217</td>\n",
       "      <td>0.434713</td>\n",
       "      <td>0.180998</td>\n",
       "      <td>...</td>\n",
       "      <td>-0.124543</td>\n",
       "      <td>-0.279936</td>\n",
       "      <td>-0.249594</td>\n",
       "      <td>0.105251</td>\n",
       "      <td>-0.023783</td>\n",
       "      <td>-0.114088</td>\n",
       "      <td>0.192379</td>\n",
       "      <td>1.000000</td>\n",
       "      <td>-0.276535</td>\n",
       "      <td>0.065345</td>\n",
       "    </tr>\n",
       "    <tr>\n",
       "      <th>POVRATTC_A</th>\n",
       "      <td>-0.027831</td>\n",
       "      <td>-0.182300</td>\n",
       "      <td>-0.061136</td>\n",
       "      <td>-0.048990</td>\n",
       "      <td>0.014388</td>\n",
       "      <td>0.462273</td>\n",
       "      <td>-0.253972</td>\n",
       "      <td>-0.186845</td>\n",
       "      <td>-0.203232</td>\n",
       "      <td>-0.128037</td>\n",
       "      <td>...</td>\n",
       "      <td>0.131268</td>\n",
       "      <td>0.219402</td>\n",
       "      <td>0.197141</td>\n",
       "      <td>0.028007</td>\n",
       "      <td>-0.048000</td>\n",
       "      <td>-0.209965</td>\n",
       "      <td>0.028340</td>\n",
       "      <td>-0.276535</td>\n",
       "      <td>1.000000</td>\n",
       "      <td>-0.344540</td>\n",
       "    </tr>\n",
       "    <tr>\n",
       "      <th>FDSCAT4_A</th>\n",
       "      <td>-0.047192</td>\n",
       "      <td>0.055377</td>\n",
       "      <td>0.027701</td>\n",
       "      <td>-0.098957</td>\n",
       "      <td>0.022325</td>\n",
       "      <td>-0.236760</td>\n",
       "      <td>0.179166</td>\n",
       "      <td>0.171140</td>\n",
       "      <td>0.092419</td>\n",
       "      <td>0.078102</td>\n",
       "      <td>...</td>\n",
       "      <td>-0.110070</td>\n",
       "      <td>-0.053016</td>\n",
       "      <td>-0.076243</td>\n",
       "      <td>-0.089349</td>\n",
       "      <td>0.028688</td>\n",
       "      <td>0.142081</td>\n",
       "      <td>-0.037113</td>\n",
       "      <td>0.065345</td>\n",
       "      <td>-0.344540</td>\n",
       "      <td>1.000000</td>\n",
       "    </tr>\n",
       "  </tbody>\n",
       "</table>\n",
       "<p>26 rows × 26 columns</p>\n",
       "</div>"
      ],
      "text/plain": [
       "             MHTHRPY_A    URBRRL     SEX_A    AGEP_A  HISPALLP_A   EDUCP_A  \\\n",
       "MHTHRPY_A     1.000000  0.066288 -0.053246  0.233444    0.010095 -0.134745   \n",
       "URBRRL        0.066288  1.000000  0.012515  0.083760   -0.024170 -0.171214   \n",
       "SEX_A        -0.053246  0.012515  1.000000  0.023721   -0.023995  0.026339   \n",
       "AGEP_A        0.233444  0.083760  0.023721  1.000000   -0.046378 -0.091936   \n",
       "HISPALLP_A    0.010095 -0.024170 -0.023995 -0.046378    1.000000  0.043614   \n",
       "EDUCP_A      -0.134745 -0.171214  0.026339 -0.091936    0.043614  1.000000   \n",
       "PHSTAT_A      0.053362  0.084585 -0.037300  0.349303   -0.011610 -0.253851   \n",
       "LSATIS4_A    -0.041447  0.000079 -0.056871  0.076150    0.001048 -0.106867   \n",
       "DIFF_A        0.092619  0.083499  0.041523  0.483707   -0.018960 -0.216922   \n",
       "COMDIFF_A     0.009260  0.043454 -0.078345  0.126714    0.030143 -0.178343   \n",
       "COGMEMDFF_A  -0.088655  0.052110 -0.002614  0.132830   -0.013473 -0.155091   \n",
       "SOCSCLPAR_A  -0.078835  0.067924  0.019282  0.157160    0.002848 -0.187773   \n",
       "NOTCOV_A     -0.044283 -0.002390  0.049487  0.169011    0.038116  0.110081   \n",
       "PAYWORRY_A    0.015200 -0.012905 -0.029414  0.145432    0.032548  0.082935   \n",
       "PHQCAT_A     -0.160942  0.036816  0.036927 -0.023155   -0.030603 -0.127454   \n",
       "GADCAT_A     -0.217115  0.041833  0.046896 -0.197474   -0.019851 -0.078270   \n",
       "SMKEV_A      -0.015620 -0.115603  0.114059 -0.167034    0.008747  0.175898   \n",
       "DRKSTAT_A    -0.046076 -0.064818 -0.120889 -0.229746   -0.002170  0.221788   \n",
       "PA18_02R_A   -0.082608 -0.113290 -0.072100 -0.283887    0.026777  0.224890   \n",
       "SLPHOURS_A   -0.001311  0.007080  0.013983  0.119635   -0.022578  0.000680   \n",
       "ORIENT_A     -0.053093 -0.006200  0.074957 -0.152123    0.011621 -0.026075   \n",
       "MARSTAT_A    -0.111325 -0.084214 -0.031012 -0.325084    0.065367 -0.067825   \n",
       "PARSTAT_A     0.073498 -0.006486 -0.104749  0.341420    0.002965 -0.045573   \n",
       "EMPLASTWK_A   0.051152  0.102587  0.043991  0.505994    0.007439 -0.246711   \n",
       "POVRATTC_A   -0.027831 -0.182300 -0.061136 -0.048990    0.014388  0.462273   \n",
       "FDSCAT4_A    -0.047192  0.055377  0.027701 -0.098957    0.022325 -0.236760   \n",
       "\n",
       "             PHSTAT_A  LSATIS4_A    DIFF_A  COMDIFF_A  ...   SMKEV_A  \\\n",
       "MHTHRPY_A    0.053362  -0.041447  0.092619   0.009260  ... -0.015620   \n",
       "URBRRL       0.084585   0.000079  0.083499   0.043454  ... -0.115603   \n",
       "SEX_A       -0.037300  -0.056871  0.041523  -0.078345  ...  0.114059   \n",
       "AGEP_A       0.349303   0.076150  0.483707   0.126714  ... -0.167034   \n",
       "HISPALLP_A  -0.011610   0.001048 -0.018960   0.030143  ...  0.008747   \n",
       "EDUCP_A     -0.253851  -0.106867 -0.216922  -0.178343  ...  0.175898   \n",
       "PHSTAT_A     1.000000   0.314853  0.509090   0.194722  ... -0.164299   \n",
       "LSATIS4_A    0.314853   1.000000  0.178437   0.106167  ... -0.088340   \n",
       "DIFF_A       0.509090   0.178437  1.000000   0.205974  ... -0.124270   \n",
       "COMDIFF_A    0.194722   0.106167  0.205974   1.000000  ... -0.031566   \n",
       "COGMEMDFF_A  0.276412   0.193484  0.243748   0.289909  ... -0.090965   \n",
       "SOCSCLPAR_A  0.345971   0.241156  0.431975   0.292157  ... -0.077210   \n",
       "NOTCOV_A     0.040649  -0.034223  0.083258   0.021536  ...  0.016494   \n",
       "PAYWORRY_A  -0.064172  -0.106856  0.015069   0.001226  ...  0.031608   \n",
       "PHQCAT_A     0.250626   0.293653  0.169078   0.119970  ... -0.092875   \n",
       "GADCAT_A     0.104456   0.196848  0.013179   0.079510  ... -0.054400   \n",
       "SMKEV_A     -0.164299  -0.088340 -0.124270  -0.031566  ...  1.000000   \n",
       "DRKSTAT_A   -0.224710  -0.050697 -0.253190  -0.135345  ... -0.108695   \n",
       "PA18_02R_A  -0.333479  -0.135271 -0.351871  -0.082577  ...  0.099097   \n",
       "SLPHOURS_A   0.029752   0.003627  0.087299   0.102096  ...  0.006010   \n",
       "ORIENT_A    -0.004023   0.030669 -0.035497   0.029216  ...  0.011529   \n",
       "MARSTAT_A   -0.056480   0.139798 -0.102297   0.030004  ... -0.000517   \n",
       "PARSTAT_A    0.165654   0.122248  0.206749   0.100283  ... -0.047209   \n",
       "EMPLASTWK_A  0.359497   0.122217  0.434713   0.180998  ... -0.124543   \n",
       "POVRATTC_A  -0.253972  -0.186845 -0.203232  -0.128037  ...  0.131268   \n",
       "FDSCAT4_A    0.179166   0.171140  0.092419   0.078102  ... -0.110070   \n",
       "\n",
       "             DRKSTAT_A  PA18_02R_A  SLPHOURS_A  ORIENT_A  MARSTAT_A  \\\n",
       "MHTHRPY_A    -0.046076   -0.082608   -0.001311 -0.053093  -0.111325   \n",
       "URBRRL       -0.064818   -0.113290    0.007080 -0.006200  -0.084214   \n",
       "SEX_A        -0.120889   -0.072100    0.013983  0.074957  -0.031012   \n",
       "AGEP_A       -0.229746   -0.283887    0.119635 -0.152123  -0.325084   \n",
       "HISPALLP_A   -0.002170    0.026777   -0.022578  0.011621   0.065367   \n",
       "EDUCP_A       0.221788    0.224890    0.000680 -0.026075  -0.067825   \n",
       "PHSTAT_A     -0.224710   -0.333479    0.029752 -0.004023  -0.056480   \n",
       "LSATIS4_A    -0.050697   -0.135271    0.003627  0.030669   0.139798   \n",
       "DIFF_A       -0.253190   -0.351871    0.087299 -0.035497  -0.102297   \n",
       "COMDIFF_A    -0.135345   -0.082577    0.102096  0.029216   0.030004   \n",
       "COGMEMDFF_A  -0.113395   -0.124049    0.058469  0.041015   0.027075   \n",
       "SOCSCLPAR_A  -0.203812   -0.223128    0.087169  0.048887   0.028182   \n",
       "NOTCOV_A     -0.030554   -0.020143    0.035063 -0.024549  -0.102080   \n",
       "PAYWORRY_A   -0.046923    0.017477    0.085772 -0.032649  -0.074858   \n",
       "PHQCAT_A     -0.054551   -0.127472   -0.052608  0.065847   0.079483   \n",
       "GADCAT_A      0.007025   -0.022895   -0.119978  0.061541   0.086116   \n",
       "SMKEV_A      -0.108695    0.099097    0.006010  0.011529  -0.000517   \n",
       "DRKSTAT_A     1.000000    0.211209   -0.056075 -0.030421   0.059623   \n",
       "PA18_02R_A    0.211209    1.000000   -0.062322  0.006865   0.062691   \n",
       "SLPHOURS_A   -0.056075   -0.062322    1.000000 -0.001860  -0.029342   \n",
       "ORIENT_A     -0.030421    0.006865   -0.001860  1.000000   0.092958   \n",
       "MARSTAT_A     0.059623    0.062691   -0.029342  0.092958   1.000000   \n",
       "PARSTAT_A    -0.060963   -0.075320    0.089178  0.000617   0.145480   \n",
       "EMPLASTWK_A  -0.279936   -0.249594    0.105251 -0.023783  -0.114088   \n",
       "POVRATTC_A    0.219402    0.197141    0.028007 -0.048000  -0.209965   \n",
       "FDSCAT4_A    -0.053016   -0.076243   -0.089349  0.028688   0.142081   \n",
       "\n",
       "             PARSTAT_A  EMPLASTWK_A  POVRATTC_A  FDSCAT4_A  \n",
       "MHTHRPY_A     0.073498     0.051152   -0.027831  -0.047192  \n",
       "URBRRL       -0.006486     0.102587   -0.182300   0.055377  \n",
       "SEX_A        -0.104749     0.043991   -0.061136   0.027701  \n",
       "AGEP_A        0.341420     0.505994   -0.048990  -0.098957  \n",
       "HISPALLP_A    0.002965     0.007439    0.014388   0.022325  \n",
       "EDUCP_A      -0.045573    -0.246711    0.462273  -0.236760  \n",
       "PHSTAT_A      0.165654     0.359497   -0.253972   0.179166  \n",
       "LSATIS4_A     0.122248     0.122217   -0.186845   0.171140  \n",
       "DIFF_A        0.206749     0.434713   -0.203232   0.092419  \n",
       "COMDIFF_A     0.100283     0.180998   -0.128037   0.078102  \n",
       "COGMEMDFF_A   0.099811     0.194478   -0.158229   0.112436  \n",
       "SOCSCLPAR_A   0.109704     0.281987   -0.200898   0.138127  \n",
       "NOTCOV_A      0.056302     0.080664    0.104149  -0.105173  \n",
       "PAYWORRY_A    0.040561     0.104993    0.163239  -0.250368  \n",
       "PHQCAT_A      0.053258     0.099524   -0.141780   0.200633  \n",
       "GADCAT_A     -0.069552    -0.012877   -0.106748   0.199131  \n",
       "SMKEV_A      -0.047209    -0.124543    0.131268  -0.110070  \n",
       "DRKSTAT_A    -0.060963    -0.279936    0.219402  -0.053016  \n",
       "PA18_02R_A   -0.075320    -0.249594    0.197141  -0.076243  \n",
       "SLPHOURS_A    0.089178     0.105251    0.028007  -0.089349  \n",
       "ORIENT_A      0.000617    -0.023783   -0.048000   0.028688  \n",
       "MARSTAT_A     0.145480    -0.114088   -0.209965   0.142081  \n",
       "PARSTAT_A     1.000000     0.192379    0.028340  -0.037113  \n",
       "EMPLASTWK_A   0.192379     1.000000   -0.276535   0.065345  \n",
       "POVRATTC_A    0.028340    -0.276535    1.000000  -0.344540  \n",
       "FDSCAT4_A    -0.037113     0.065345   -0.344540   1.000000  \n",
       "\n",
       "[26 rows x 26 columns]"
      ]
     },
     "execution_count": 61,
     "metadata": {},
     "output_type": "execute_result"
    }
   ],
   "source": [
    "depression_df.corr()"
   ]
  },
  {
   "cell_type": "markdown",
   "id": "40da15dd-9302-4d7b-bcdc-43f551b6f954",
   "metadata": {},
   "source": [
    "# **Supervised Model: Random Forest**"
   ]
  },
  {
   "cell_type": "code",
   "execution_count": 62,
   "id": "28518434-7e2d-4c45-9798-2eef2cff2e32",
   "metadata": {
    "tags": []
   },
   "outputs": [],
   "source": [
    "X = depression_df.drop(\"MHTHRPY_A\",axis=1)\n",
    "y = depression_df[\"MHTHRPY_A\"]"
   ]
  },
  {
   "cell_type": "code",
   "execution_count": 63,
   "id": "e25f3162-4941-400a-aaea-4632463ef6b4",
   "metadata": {
    "tags": []
   },
   "outputs": [],
   "source": [
    "from sklearn.model_selection import train_test_split"
   ]
  },
  {
   "cell_type": "code",
   "execution_count": 64,
   "id": "c90b2cf3-f875-40ba-a15a-7d76f4fd5941",
   "metadata": {
    "tags": []
   },
   "outputs": [],
   "source": [
    "X_train, X_test, y_train, y_test = train_test_split(X,y,test_size=0.2,random_state=42)"
   ]
  },
  {
   "cell_type": "code",
   "execution_count": 65,
   "id": "d0fc066a-965b-424e-a085-db5577e87100",
   "metadata": {
    "tags": []
   },
   "outputs": [],
   "source": [
    "from sklearn.ensemble import RandomForestClassifier\n",
    "from sklearn.model_selection import GridSearchCV\n",
    "from sklearn.preprocessing import StandardScaler\n",
    "from sklearn import metrics\n",
    "from sklearn.metrics import classification_report,confusion_matrix"
   ]
  },
  {
   "cell_type": "code",
   "execution_count": 66,
   "id": "a8f132cf-a809-4876-ad78-151ea0c1a999",
   "metadata": {
    "tags": []
   },
   "outputs": [],
   "source": [
    "scaler = StandardScaler()\n",
    "X_train = scaler.fit_transform(X_train)\n",
    "X_test = scaler.transform(X_test)"
   ]
  },
  {
   "cell_type": "code",
   "execution_count": 67,
   "id": "1e106b31-896b-4515-8f44-631f61b32bb6",
   "metadata": {
    "tags": []
   },
   "outputs": [],
   "source": [
    "rf = RandomForestClassifier(criterion='entropy')"
   ]
  },
  {
   "cell_type": "code",
   "execution_count": 68,
   "id": "bdb1c7c9-0125-4a7e-84cc-a60b780dd981",
   "metadata": {
    "tags": []
   },
   "outputs": [],
   "source": [
    "param_grid = {'n_estimators': [10, 50, 100, 250, 500, 750, 1000]} "
   ]
  },
  {
   "cell_type": "code",
   "execution_count": 69,
   "id": "1414d0b6-9563-42f3-9e20-fdeded301db1",
   "metadata": {
    "tags": []
   },
   "outputs": [],
   "source": [
    "rf_grid = GridSearchCV(estimator=rf,param_grid=param_grid,verbose=3)"
   ]
  },
  {
   "cell_type": "code",
   "execution_count": 70,
   "id": "25554a25-efa9-40a4-9310-05118d2bbee9",
   "metadata": {
    "tags": []
   },
   "outputs": [
    {
     "name": "stdout",
     "output_type": "stream",
     "text": [
      "Fitting 5 folds for each of 7 candidates, totalling 35 fits\n",
      "[CV 1/5] END ...................n_estimators=10;, score=0.671 total time=   0.0s\n",
      "[CV 2/5] END ...................n_estimators=10;, score=0.693 total time=   0.0s\n",
      "[CV 3/5] END ...................n_estimators=10;, score=0.678 total time=   0.0s\n",
      "[CV 4/5] END ...................n_estimators=10;, score=0.676 total time=   0.0s\n",
      "[CV 5/5] END ...................n_estimators=10;, score=0.694 total time=   0.0s\n",
      "[CV 1/5] END ...................n_estimators=50;, score=0.698 total time=   0.1s\n",
      "[CV 2/5] END ...................n_estimators=50;, score=0.697 total time=   0.1s\n",
      "[CV 3/5] END ...................n_estimators=50;, score=0.713 total time=   0.2s\n",
      "[CV 4/5] END ...................n_estimators=50;, score=0.696 total time=   0.2s\n",
      "[CV 5/5] END ...................n_estimators=50;, score=0.707 total time=   0.1s\n",
      "[CV 1/5] END ..................n_estimators=100;, score=0.688 total time=   0.3s\n",
      "[CV 2/5] END ..................n_estimators=100;, score=0.704 total time=   0.3s\n",
      "[CV 3/5] END ..................n_estimators=100;, score=0.716 total time=   0.3s\n",
      "[CV 4/5] END ..................n_estimators=100;, score=0.711 total time=   0.3s\n",
      "[CV 5/5] END ..................n_estimators=100;, score=0.719 total time=   0.3s\n",
      "[CV 1/5] END ..................n_estimators=250;, score=0.688 total time=   0.7s\n",
      "[CV 2/5] END ..................n_estimators=250;, score=0.704 total time=   0.7s\n",
      "[CV 3/5] END ..................n_estimators=250;, score=0.716 total time=   0.7s\n",
      "[CV 4/5] END ..................n_estimators=250;, score=0.700 total time=   0.7s\n",
      "[CV 5/5] END ..................n_estimators=250;, score=0.721 total time=   0.7s\n",
      "[CV 1/5] END ..................n_estimators=500;, score=0.700 total time=   1.4s\n",
      "[CV 2/5] END ..................n_estimators=500;, score=0.706 total time=   1.4s\n",
      "[CV 3/5] END ..................n_estimators=500;, score=0.718 total time=   1.4s\n",
      "[CV 4/5] END ..................n_estimators=500;, score=0.708 total time=   1.5s\n",
      "[CV 5/5] END ..................n_estimators=500;, score=0.717 total time=   1.5s\n",
      "[CV 1/5] END ..................n_estimators=750;, score=0.705 total time=   2.1s\n",
      "[CV 2/5] END ..................n_estimators=750;, score=0.706 total time=   2.1s\n",
      "[CV 3/5] END ..................n_estimators=750;, score=0.722 total time=   2.1s\n",
      "[CV 4/5] END ..................n_estimators=750;, score=0.706 total time=   2.2s\n",
      "[CV 5/5] END ..................n_estimators=750;, score=0.720 total time=   2.1s\n",
      "[CV 1/5] END .................n_estimators=1000;, score=0.700 total time=   2.9s\n",
      "[CV 2/5] END .................n_estimators=1000;, score=0.706 total time=   2.9s\n",
      "[CV 3/5] END .................n_estimators=1000;, score=0.724 total time=   2.9s\n",
      "[CV 4/5] END .................n_estimators=1000;, score=0.708 total time=   2.9s\n",
      "[CV 5/5] END .................n_estimators=1000;, score=0.719 total time=   2.9s\n"
     ]
    },
    {
     "data": {
      "text/html": [
       "<style>#sk-container-id-1 {color: black;}#sk-container-id-1 pre{padding: 0;}#sk-container-id-1 div.sk-toggleable {background-color: white;}#sk-container-id-1 label.sk-toggleable__label {cursor: pointer;display: block;width: 100%;margin-bottom: 0;padding: 0.3em;box-sizing: border-box;text-align: center;}#sk-container-id-1 label.sk-toggleable__label-arrow:before {content: \"▸\";float: left;margin-right: 0.25em;color: #696969;}#sk-container-id-1 label.sk-toggleable__label-arrow:hover:before {color: black;}#sk-container-id-1 div.sk-estimator:hover label.sk-toggleable__label-arrow:before {color: black;}#sk-container-id-1 div.sk-toggleable__content {max-height: 0;max-width: 0;overflow: hidden;text-align: left;background-color: #f0f8ff;}#sk-container-id-1 div.sk-toggleable__content pre {margin: 0.2em;color: black;border-radius: 0.25em;background-color: #f0f8ff;}#sk-container-id-1 input.sk-toggleable__control:checked~div.sk-toggleable__content {max-height: 200px;max-width: 100%;overflow: auto;}#sk-container-id-1 input.sk-toggleable__control:checked~label.sk-toggleable__label-arrow:before {content: \"▾\";}#sk-container-id-1 div.sk-estimator input.sk-toggleable__control:checked~label.sk-toggleable__label {background-color: #d4ebff;}#sk-container-id-1 div.sk-label input.sk-toggleable__control:checked~label.sk-toggleable__label {background-color: #d4ebff;}#sk-container-id-1 input.sk-hidden--visually {border: 0;clip: rect(1px 1px 1px 1px);clip: rect(1px, 1px, 1px, 1px);height: 1px;margin: -1px;overflow: hidden;padding: 0;position: absolute;width: 1px;}#sk-container-id-1 div.sk-estimator {font-family: monospace;background-color: #f0f8ff;border: 1px dotted black;border-radius: 0.25em;box-sizing: border-box;margin-bottom: 0.5em;}#sk-container-id-1 div.sk-estimator:hover {background-color: #d4ebff;}#sk-container-id-1 div.sk-parallel-item::after {content: \"\";width: 100%;border-bottom: 1px solid gray;flex-grow: 1;}#sk-container-id-1 div.sk-label:hover label.sk-toggleable__label {background-color: #d4ebff;}#sk-container-id-1 div.sk-serial::before {content: \"\";position: absolute;border-left: 1px solid gray;box-sizing: border-box;top: 0;bottom: 0;left: 50%;z-index: 0;}#sk-container-id-1 div.sk-serial {display: flex;flex-direction: column;align-items: center;background-color: white;padding-right: 0.2em;padding-left: 0.2em;position: relative;}#sk-container-id-1 div.sk-item {position: relative;z-index: 1;}#sk-container-id-1 div.sk-parallel {display: flex;align-items: stretch;justify-content: center;background-color: white;position: relative;}#sk-container-id-1 div.sk-item::before, #sk-container-id-1 div.sk-parallel-item::before {content: \"\";position: absolute;border-left: 1px solid gray;box-sizing: border-box;top: 0;bottom: 0;left: 50%;z-index: -1;}#sk-container-id-1 div.sk-parallel-item {display: flex;flex-direction: column;z-index: 1;position: relative;background-color: white;}#sk-container-id-1 div.sk-parallel-item:first-child::after {align-self: flex-end;width: 50%;}#sk-container-id-1 div.sk-parallel-item:last-child::after {align-self: flex-start;width: 50%;}#sk-container-id-1 div.sk-parallel-item:only-child::after {width: 0;}#sk-container-id-1 div.sk-dashed-wrapped {border: 1px dashed gray;margin: 0 0.4em 0.5em 0.4em;box-sizing: border-box;padding-bottom: 0.4em;background-color: white;}#sk-container-id-1 div.sk-label label {font-family: monospace;font-weight: bold;display: inline-block;line-height: 1.2em;}#sk-container-id-1 div.sk-label-container {text-align: center;}#sk-container-id-1 div.sk-container {/* jupyter's `normalize.less` sets `[hidden] { display: none; }` but bootstrap.min.css set `[hidden] { display: none !important; }` so we also need the `!important` here to be able to override the default hidden behavior on the sphinx rendered scikit-learn.org. See: https://github.com/scikit-learn/scikit-learn/issues/21755 */display: inline-block !important;position: relative;}#sk-container-id-1 div.sk-text-repr-fallback {display: none;}</style><div id=\"sk-container-id-1\" class=\"sk-top-container\"><div class=\"sk-text-repr-fallback\"><pre>GridSearchCV(estimator=RandomForestClassifier(criterion=&#x27;entropy&#x27;),\n",
       "             param_grid={&#x27;n_estimators&#x27;: [10, 50, 100, 250, 500, 750, 1000]},\n",
       "             verbose=3)</pre><b>In a Jupyter environment, please rerun this cell to show the HTML representation or trust the notebook. <br />On GitHub, the HTML representation is unable to render, please try loading this page with nbviewer.org.</b></div><div class=\"sk-container\" hidden><div class=\"sk-item sk-dashed-wrapped\"><div class=\"sk-label-container\"><div class=\"sk-label sk-toggleable\"><input class=\"sk-toggleable__control sk-hidden--visually\" id=\"sk-estimator-id-1\" type=\"checkbox\" ><label for=\"sk-estimator-id-1\" class=\"sk-toggleable__label sk-toggleable__label-arrow\">GridSearchCV</label><div class=\"sk-toggleable__content\"><pre>GridSearchCV(estimator=RandomForestClassifier(criterion=&#x27;entropy&#x27;),\n",
       "             param_grid={&#x27;n_estimators&#x27;: [10, 50, 100, 250, 500, 750, 1000]},\n",
       "             verbose=3)</pre></div></div></div><div class=\"sk-parallel\"><div class=\"sk-parallel-item\"><div class=\"sk-item\"><div class=\"sk-label-container\"><div class=\"sk-label sk-toggleable\"><input class=\"sk-toggleable__control sk-hidden--visually\" id=\"sk-estimator-id-2\" type=\"checkbox\" ><label for=\"sk-estimator-id-2\" class=\"sk-toggleable__label sk-toggleable__label-arrow\">estimator: RandomForestClassifier</label><div class=\"sk-toggleable__content\"><pre>RandomForestClassifier(criterion=&#x27;entropy&#x27;)</pre></div></div></div><div class=\"sk-serial\"><div class=\"sk-item\"><div class=\"sk-estimator sk-toggleable\"><input class=\"sk-toggleable__control sk-hidden--visually\" id=\"sk-estimator-id-3\" type=\"checkbox\" ><label for=\"sk-estimator-id-3\" class=\"sk-toggleable__label sk-toggleable__label-arrow\">RandomForestClassifier</label><div class=\"sk-toggleable__content\"><pre>RandomForestClassifier(criterion=&#x27;entropy&#x27;)</pre></div></div></div></div></div></div></div></div></div></div>"
      ],
      "text/plain": [
       "GridSearchCV(estimator=RandomForestClassifier(criterion='entropy'),\n",
       "             param_grid={'n_estimators': [10, 50, 100, 250, 500, 750, 1000]},\n",
       "             verbose=3)"
      ]
     },
     "execution_count": 70,
     "metadata": {},
     "output_type": "execute_result"
    }
   ],
   "source": [
    "rf_grid.fit(X_train,y_train)"
   ]
  },
  {
   "cell_type": "code",
   "execution_count": 71,
   "id": "fd0b299e-0950-4f40-a192-7dd9b35d933e",
   "metadata": {
    "tags": []
   },
   "outputs": [
    {
     "data": {
      "text/plain": [
       "{'n_estimators': 750}"
      ]
     },
     "execution_count": 71,
     "metadata": {},
     "output_type": "execute_result"
    }
   ],
   "source": [
    "rf_grid.best_params_"
   ]
  },
  {
   "cell_type": "code",
   "execution_count": 72,
   "id": "af30d340-7339-4261-a551-0e11bfd1538b",
   "metadata": {
    "tags": []
   },
   "outputs": [],
   "source": [
    "rf_pred = rf_grid.predict(X_test)"
   ]
  },
  {
   "cell_type": "code",
   "execution_count": 73,
   "id": "be01be3e-7072-4738-be1b-1d36979c4e45",
   "metadata": {
    "tags": []
   },
   "outputs": [
    {
     "name": "stdout",
     "output_type": "stream",
     "text": [
      "[[ 92 246]\n",
      " [ 46 667]]\n"
     ]
    }
   ],
   "source": [
    "print(metrics.confusion_matrix(y_test,rf_pred))"
   ]
  },
  {
   "cell_type": "code",
   "execution_count": 74,
   "id": "a024a641-bded-417c-b7b2-16377d909f83",
   "metadata": {
    "tags": []
   },
   "outputs": [
    {
     "name": "stdout",
     "output_type": "stream",
     "text": [
      "              precision    recall  f1-score   support\n",
      "\n",
      "           1       0.67      0.27      0.39       338\n",
      "           2       0.73      0.94      0.82       713\n",
      "\n",
      "    accuracy                           0.72      1051\n",
      "   macro avg       0.70      0.60      0.60      1051\n",
      "weighted avg       0.71      0.72      0.68      1051\n",
      "\n"
     ]
    }
   ],
   "source": [
    "print(classification_report(y_test,rf_pred))"
   ]
  },
  {
   "cell_type": "markdown",
   "id": "393d4b92-f015-4a14-a51e-ff65f53f01e0",
   "metadata": {
    "tags": []
   },
   "source": [
    "# **Supervised Model: SVM**"
   ]
  },
  {
   "cell_type": "code",
   "execution_count": 75,
   "id": "b3f61da8-de29-452c-bd48-0910d0d35b5f",
   "metadata": {
    "tags": []
   },
   "outputs": [],
   "source": [
    "from sklearn.svm import SVC"
   ]
  },
  {
   "cell_type": "code",
   "execution_count": 76,
   "id": "1a7ae0a0-37de-49cb-8ff1-c9762036984b",
   "metadata": {
    "tags": []
   },
   "outputs": [],
   "source": [
    "svc_model = SVC()"
   ]
  },
  {
   "cell_type": "code",
   "execution_count": 77,
   "id": "f4c842e3-a528-480f-a39f-c8ded2c64e11",
   "metadata": {
    "tags": []
   },
   "outputs": [],
   "source": [
    "svc_param_grid = {'C': [0.1,1,10], 'gamma': [\"auto\",\"scale\"],'kernel': [\"poly\",\"linear\",\"rbf\"]} "
   ]
  },
  {
   "cell_type": "code",
   "execution_count": 78,
   "id": "743bffd0-3b2f-4caa-8402-41d8d74cb855",
   "metadata": {
    "tags": []
   },
   "outputs": [],
   "source": [
    "svc_grid = GridSearchCV(SVC(),param_grid=svc_param_grid,verbose=3)"
   ]
  },
  {
   "cell_type": "code",
   "execution_count": 79,
   "id": "a833c9a0-f15c-4034-b54b-7b25002c06b0",
   "metadata": {
    "tags": []
   },
   "outputs": [
    {
     "name": "stdout",
     "output_type": "stream",
     "text": [
      "Fitting 5 folds for each of 18 candidates, totalling 90 fits\n",
      "[CV 1/5] END ....C=0.1, gamma=auto, kernel=poly;, score=0.687 total time=   0.2s\n",
      "[CV 2/5] END ....C=0.1, gamma=auto, kernel=poly;, score=0.685 total time=   0.2s\n",
      "[CV 3/5] END ....C=0.1, gamma=auto, kernel=poly;, score=0.683 total time=   0.2s\n",
      "[CV 4/5] END ....C=0.1, gamma=auto, kernel=poly;, score=0.694 total time=   0.2s\n",
      "[CV 5/5] END ....C=0.1, gamma=auto, kernel=poly;, score=0.686 total time=   0.2s\n",
      "[CV 1/5] END ..C=0.1, gamma=auto, kernel=linear;, score=0.686 total time=   0.2s\n",
      "[CV 2/5] END ..C=0.1, gamma=auto, kernel=linear;, score=0.686 total time=   0.2s\n",
      "[CV 3/5] END ..C=0.1, gamma=auto, kernel=linear;, score=0.686 total time=   0.2s\n",
      "[CV 4/5] END ..C=0.1, gamma=auto, kernel=linear;, score=0.687 total time=   0.2s\n",
      "[CV 5/5] END ..C=0.1, gamma=auto, kernel=linear;, score=0.687 total time=   0.2s\n",
      "[CV 1/5] END .....C=0.1, gamma=auto, kernel=rbf;, score=0.686 total time=   0.3s\n",
      "[CV 2/5] END .....C=0.1, gamma=auto, kernel=rbf;, score=0.686 total time=   0.3s\n",
      "[CV 3/5] END .....C=0.1, gamma=auto, kernel=rbf;, score=0.686 total time=   0.3s\n",
      "[CV 4/5] END .....C=0.1, gamma=auto, kernel=rbf;, score=0.687 total time=   0.3s\n",
      "[CV 5/5] END .....C=0.1, gamma=auto, kernel=rbf;, score=0.687 total time=   0.3s\n",
      "[CV 1/5] END ...C=0.1, gamma=scale, kernel=poly;, score=0.687 total time=   0.2s\n",
      "[CV 2/5] END ...C=0.1, gamma=scale, kernel=poly;, score=0.686 total time=   0.2s\n",
      "[CV 3/5] END ...C=0.1, gamma=scale, kernel=poly;, score=0.683 total time=   0.2s\n",
      "[CV 4/5] END ...C=0.1, gamma=scale, kernel=poly;, score=0.694 total time=   0.2s\n",
      "[CV 5/5] END ...C=0.1, gamma=scale, kernel=poly;, score=0.686 total time=   0.2s\n",
      "[CV 1/5] END .C=0.1, gamma=scale, kernel=linear;, score=0.686 total time=   0.2s\n",
      "[CV 2/5] END .C=0.1, gamma=scale, kernel=linear;, score=0.686 total time=   0.2s\n",
      "[CV 3/5] END .C=0.1, gamma=scale, kernel=linear;, score=0.686 total time=   0.2s\n",
      "[CV 4/5] END .C=0.1, gamma=scale, kernel=linear;, score=0.687 total time=   0.2s\n",
      "[CV 5/5] END .C=0.1, gamma=scale, kernel=linear;, score=0.687 total time=   0.2s\n",
      "[CV 1/5] END ....C=0.1, gamma=scale, kernel=rbf;, score=0.686 total time=   0.3s\n",
      "[CV 2/5] END ....C=0.1, gamma=scale, kernel=rbf;, score=0.686 total time=   0.2s\n",
      "[CV 3/5] END ....C=0.1, gamma=scale, kernel=rbf;, score=0.686 total time=   0.3s\n",
      "[CV 4/5] END ....C=0.1, gamma=scale, kernel=rbf;, score=0.687 total time=   0.3s\n",
      "[CV 5/5] END ....C=0.1, gamma=scale, kernel=rbf;, score=0.687 total time=   0.3s\n",
      "[CV 1/5] END ......C=1, gamma=auto, kernel=poly;, score=0.690 total time=   0.2s\n",
      "[CV 2/5] END ......C=1, gamma=auto, kernel=poly;, score=0.690 total time=   0.2s\n",
      "[CV 3/5] END ......C=1, gamma=auto, kernel=poly;, score=0.702 total time=   0.2s\n",
      "[CV 4/5] END ......C=1, gamma=auto, kernel=poly;, score=0.696 total time=   0.2s\n",
      "[CV 5/5] END ......C=1, gamma=auto, kernel=poly;, score=0.700 total time=   0.2s\n",
      "[CV 1/5] END ....C=1, gamma=auto, kernel=linear;, score=0.686 total time=   0.3s\n",
      "[CV 2/5] END ....C=1, gamma=auto, kernel=linear;, score=0.686 total time=   0.3s\n",
      "[CV 3/5] END ....C=1, gamma=auto, kernel=linear;, score=0.686 total time=   0.3s\n",
      "[CV 4/5] END ....C=1, gamma=auto, kernel=linear;, score=0.687 total time=   0.3s\n",
      "[CV 5/5] END ....C=1, gamma=auto, kernel=linear;, score=0.687 total time=   0.3s\n",
      "[CV 1/5] END .......C=1, gamma=auto, kernel=rbf;, score=0.706 total time=   0.3s\n",
      "[CV 2/5] END .......C=1, gamma=auto, kernel=rbf;, score=0.705 total time=   0.3s\n",
      "[CV 3/5] END .......C=1, gamma=auto, kernel=rbf;, score=0.705 total time=   0.3s\n",
      "[CV 4/5] END .......C=1, gamma=auto, kernel=rbf;, score=0.707 total time=   0.3s\n",
      "[CV 5/5] END .......C=1, gamma=auto, kernel=rbf;, score=0.721 total time=   0.3s\n",
      "[CV 1/5] END .....C=1, gamma=scale, kernel=poly;, score=0.688 total time=   0.2s\n",
      "[CV 2/5] END .....C=1, gamma=scale, kernel=poly;, score=0.690 total time=   0.2s\n",
      "[CV 3/5] END .....C=1, gamma=scale, kernel=poly;, score=0.702 total time=   0.2s\n",
      "[CV 4/5] END .....C=1, gamma=scale, kernel=poly;, score=0.696 total time=   0.2s\n",
      "[CV 5/5] END .....C=1, gamma=scale, kernel=poly;, score=0.700 total time=   0.2s\n",
      "[CV 1/5] END ...C=1, gamma=scale, kernel=linear;, score=0.686 total time=   0.3s\n",
      "[CV 2/5] END ...C=1, gamma=scale, kernel=linear;, score=0.686 total time=   0.3s\n",
      "[CV 3/5] END ...C=1, gamma=scale, kernel=linear;, score=0.686 total time=   0.4s\n",
      "[CV 4/5] END ...C=1, gamma=scale, kernel=linear;, score=0.687 total time=   0.3s\n",
      "[CV 5/5] END ...C=1, gamma=scale, kernel=linear;, score=0.687 total time=   0.3s\n",
      "[CV 1/5] END ......C=1, gamma=scale, kernel=rbf;, score=0.706 total time=   0.3s\n",
      "[CV 2/5] END ......C=1, gamma=scale, kernel=rbf;, score=0.705 total time=   0.3s\n",
      "[CV 3/5] END ......C=1, gamma=scale, kernel=rbf;, score=0.705 total time=   0.3s\n",
      "[CV 4/5] END ......C=1, gamma=scale, kernel=rbf;, score=0.707 total time=   0.3s\n",
      "[CV 5/5] END ......C=1, gamma=scale, kernel=rbf;, score=0.721 total time=   0.3s\n",
      "[CV 1/5] END .....C=10, gamma=auto, kernel=poly;, score=0.640 total time=   0.3s\n",
      "[CV 2/5] END .....C=10, gamma=auto, kernel=poly;, score=0.669 total time=   0.3s\n",
      "[CV 3/5] END .....C=10, gamma=auto, kernel=poly;, score=0.658 total time=   0.3s\n",
      "[CV 4/5] END .....C=10, gamma=auto, kernel=poly;, score=0.674 total time=   0.4s\n",
      "[CV 5/5] END .....C=10, gamma=auto, kernel=poly;, score=0.669 total time=   0.3s\n",
      "[CV 1/5] END ...C=10, gamma=auto, kernel=linear;, score=0.686 total time=   1.2s\n",
      "[CV 2/5] END ...C=10, gamma=auto, kernel=linear;, score=0.686 total time=   1.2s\n",
      "[CV 3/5] END ...C=10, gamma=auto, kernel=linear;, score=0.686 total time=   1.3s\n",
      "[CV 4/5] END ...C=10, gamma=auto, kernel=linear;, score=0.687 total time=   1.2s\n",
      "[CV 5/5] END ...C=10, gamma=auto, kernel=linear;, score=0.687 total time=   1.3s\n",
      "[CV 1/5] END ......C=10, gamma=auto, kernel=rbf;, score=0.675 total time=   0.4s\n",
      "[CV 2/5] END ......C=10, gamma=auto, kernel=rbf;, score=0.667 total time=   0.5s\n",
      "[CV 3/5] END ......C=10, gamma=auto, kernel=rbf;, score=0.669 total time=   0.4s\n",
      "[CV 4/5] END ......C=10, gamma=auto, kernel=rbf;, score=0.682 total time=   0.4s\n",
      "[CV 5/5] END ......C=10, gamma=auto, kernel=rbf;, score=0.683 total time=   0.4s\n",
      "[CV 1/5] END ....C=10, gamma=scale, kernel=poly;, score=0.640 total time=   0.3s\n",
      "[CV 2/5] END ....C=10, gamma=scale, kernel=poly;, score=0.667 total time=   0.3s\n",
      "[CV 3/5] END ....C=10, gamma=scale, kernel=poly;, score=0.659 total time=   0.3s\n",
      "[CV 4/5] END ....C=10, gamma=scale, kernel=poly;, score=0.674 total time=   0.3s\n",
      "[CV 5/5] END ....C=10, gamma=scale, kernel=poly;, score=0.669 total time=   0.3s\n",
      "[CV 1/5] END ..C=10, gamma=scale, kernel=linear;, score=0.686 total time=   1.2s\n",
      "[CV 2/5] END ..C=10, gamma=scale, kernel=linear;, score=0.686 total time=   1.2s\n",
      "[CV 3/5] END ..C=10, gamma=scale, kernel=linear;, score=0.686 total time=   1.2s\n",
      "[CV 4/5] END ..C=10, gamma=scale, kernel=linear;, score=0.687 total time=   1.2s\n",
      "[CV 5/5] END ..C=10, gamma=scale, kernel=linear;, score=0.687 total time=   1.3s\n",
      "[CV 1/5] END .....C=10, gamma=scale, kernel=rbf;, score=0.675 total time=   0.4s\n",
      "[CV 2/5] END .....C=10, gamma=scale, kernel=rbf;, score=0.666 total time=   0.4s\n",
      "[CV 3/5] END .....C=10, gamma=scale, kernel=rbf;, score=0.669 total time=   0.4s\n",
      "[CV 4/5] END .....C=10, gamma=scale, kernel=rbf;, score=0.682 total time=   0.4s\n",
      "[CV 5/5] END .....C=10, gamma=scale, kernel=rbf;, score=0.682 total time=   0.4s\n"
     ]
    },
    {
     "data": {
      "text/html": [
       "<style>#sk-container-id-2 {color: black;}#sk-container-id-2 pre{padding: 0;}#sk-container-id-2 div.sk-toggleable {background-color: white;}#sk-container-id-2 label.sk-toggleable__label {cursor: pointer;display: block;width: 100%;margin-bottom: 0;padding: 0.3em;box-sizing: border-box;text-align: center;}#sk-container-id-2 label.sk-toggleable__label-arrow:before {content: \"▸\";float: left;margin-right: 0.25em;color: #696969;}#sk-container-id-2 label.sk-toggleable__label-arrow:hover:before {color: black;}#sk-container-id-2 div.sk-estimator:hover label.sk-toggleable__label-arrow:before {color: black;}#sk-container-id-2 div.sk-toggleable__content {max-height: 0;max-width: 0;overflow: hidden;text-align: left;background-color: #f0f8ff;}#sk-container-id-2 div.sk-toggleable__content pre {margin: 0.2em;color: black;border-radius: 0.25em;background-color: #f0f8ff;}#sk-container-id-2 input.sk-toggleable__control:checked~div.sk-toggleable__content {max-height: 200px;max-width: 100%;overflow: auto;}#sk-container-id-2 input.sk-toggleable__control:checked~label.sk-toggleable__label-arrow:before {content: \"▾\";}#sk-container-id-2 div.sk-estimator input.sk-toggleable__control:checked~label.sk-toggleable__label {background-color: #d4ebff;}#sk-container-id-2 div.sk-label input.sk-toggleable__control:checked~label.sk-toggleable__label {background-color: #d4ebff;}#sk-container-id-2 input.sk-hidden--visually {border: 0;clip: rect(1px 1px 1px 1px);clip: rect(1px, 1px, 1px, 1px);height: 1px;margin: -1px;overflow: hidden;padding: 0;position: absolute;width: 1px;}#sk-container-id-2 div.sk-estimator {font-family: monospace;background-color: #f0f8ff;border: 1px dotted black;border-radius: 0.25em;box-sizing: border-box;margin-bottom: 0.5em;}#sk-container-id-2 div.sk-estimator:hover {background-color: #d4ebff;}#sk-container-id-2 div.sk-parallel-item::after {content: \"\";width: 100%;border-bottom: 1px solid gray;flex-grow: 1;}#sk-container-id-2 div.sk-label:hover label.sk-toggleable__label {background-color: #d4ebff;}#sk-container-id-2 div.sk-serial::before {content: \"\";position: absolute;border-left: 1px solid gray;box-sizing: border-box;top: 0;bottom: 0;left: 50%;z-index: 0;}#sk-container-id-2 div.sk-serial {display: flex;flex-direction: column;align-items: center;background-color: white;padding-right: 0.2em;padding-left: 0.2em;position: relative;}#sk-container-id-2 div.sk-item {position: relative;z-index: 1;}#sk-container-id-2 div.sk-parallel {display: flex;align-items: stretch;justify-content: center;background-color: white;position: relative;}#sk-container-id-2 div.sk-item::before, #sk-container-id-2 div.sk-parallel-item::before {content: \"\";position: absolute;border-left: 1px solid gray;box-sizing: border-box;top: 0;bottom: 0;left: 50%;z-index: -1;}#sk-container-id-2 div.sk-parallel-item {display: flex;flex-direction: column;z-index: 1;position: relative;background-color: white;}#sk-container-id-2 div.sk-parallel-item:first-child::after {align-self: flex-end;width: 50%;}#sk-container-id-2 div.sk-parallel-item:last-child::after {align-self: flex-start;width: 50%;}#sk-container-id-2 div.sk-parallel-item:only-child::after {width: 0;}#sk-container-id-2 div.sk-dashed-wrapped {border: 1px dashed gray;margin: 0 0.4em 0.5em 0.4em;box-sizing: border-box;padding-bottom: 0.4em;background-color: white;}#sk-container-id-2 div.sk-label label {font-family: monospace;font-weight: bold;display: inline-block;line-height: 1.2em;}#sk-container-id-2 div.sk-label-container {text-align: center;}#sk-container-id-2 div.sk-container {/* jupyter's `normalize.less` sets `[hidden] { display: none; }` but bootstrap.min.css set `[hidden] { display: none !important; }` so we also need the `!important` here to be able to override the default hidden behavior on the sphinx rendered scikit-learn.org. See: https://github.com/scikit-learn/scikit-learn/issues/21755 */display: inline-block !important;position: relative;}#sk-container-id-2 div.sk-text-repr-fallback {display: none;}</style><div id=\"sk-container-id-2\" class=\"sk-top-container\"><div class=\"sk-text-repr-fallback\"><pre>GridSearchCV(estimator=SVC(),\n",
       "             param_grid={&#x27;C&#x27;: [0.1, 1, 10], &#x27;gamma&#x27;: [&#x27;auto&#x27;, &#x27;scale&#x27;],\n",
       "                         &#x27;kernel&#x27;: [&#x27;poly&#x27;, &#x27;linear&#x27;, &#x27;rbf&#x27;]},\n",
       "             verbose=3)</pre><b>In a Jupyter environment, please rerun this cell to show the HTML representation or trust the notebook. <br />On GitHub, the HTML representation is unable to render, please try loading this page with nbviewer.org.</b></div><div class=\"sk-container\" hidden><div class=\"sk-item sk-dashed-wrapped\"><div class=\"sk-label-container\"><div class=\"sk-label sk-toggleable\"><input class=\"sk-toggleable__control sk-hidden--visually\" id=\"sk-estimator-id-4\" type=\"checkbox\" ><label for=\"sk-estimator-id-4\" class=\"sk-toggleable__label sk-toggleable__label-arrow\">GridSearchCV</label><div class=\"sk-toggleable__content\"><pre>GridSearchCV(estimator=SVC(),\n",
       "             param_grid={&#x27;C&#x27;: [0.1, 1, 10], &#x27;gamma&#x27;: [&#x27;auto&#x27;, &#x27;scale&#x27;],\n",
       "                         &#x27;kernel&#x27;: [&#x27;poly&#x27;, &#x27;linear&#x27;, &#x27;rbf&#x27;]},\n",
       "             verbose=3)</pre></div></div></div><div class=\"sk-parallel\"><div class=\"sk-parallel-item\"><div class=\"sk-item\"><div class=\"sk-label-container\"><div class=\"sk-label sk-toggleable\"><input class=\"sk-toggleable__control sk-hidden--visually\" id=\"sk-estimator-id-5\" type=\"checkbox\" ><label for=\"sk-estimator-id-5\" class=\"sk-toggleable__label sk-toggleable__label-arrow\">estimator: SVC</label><div class=\"sk-toggleable__content\"><pre>SVC()</pre></div></div></div><div class=\"sk-serial\"><div class=\"sk-item\"><div class=\"sk-estimator sk-toggleable\"><input class=\"sk-toggleable__control sk-hidden--visually\" id=\"sk-estimator-id-6\" type=\"checkbox\" ><label for=\"sk-estimator-id-6\" class=\"sk-toggleable__label sk-toggleable__label-arrow\">SVC</label><div class=\"sk-toggleable__content\"><pre>SVC()</pre></div></div></div></div></div></div></div></div></div></div>"
      ],
      "text/plain": [
       "GridSearchCV(estimator=SVC(),\n",
       "             param_grid={'C': [0.1, 1, 10], 'gamma': ['auto', 'scale'],\n",
       "                         'kernel': ['poly', 'linear', 'rbf']},\n",
       "             verbose=3)"
      ]
     },
     "execution_count": 79,
     "metadata": {},
     "output_type": "execute_result"
    }
   ],
   "source": [
    "svc_grid.fit(X_train,y_train)"
   ]
  },
  {
   "cell_type": "code",
   "execution_count": 80,
   "id": "b98adf96-365d-4839-80d2-c88051333948",
   "metadata": {
    "tags": []
   },
   "outputs": [
    {
     "data": {
      "text/plain": [
       "{'C': 1, 'gamma': 'auto', 'kernel': 'rbf'}"
      ]
     },
     "execution_count": 80,
     "metadata": {},
     "output_type": "execute_result"
    }
   ],
   "source": [
    "svc_grid.best_params_"
   ]
  },
  {
   "cell_type": "code",
   "execution_count": 81,
   "id": "5018c052-40bf-4850-8c69-90792ed1b9d9",
   "metadata": {
    "tags": []
   },
   "outputs": [],
   "source": [
    "svc_pred = svc_grid.predict(X_test)"
   ]
  },
  {
   "cell_type": "code",
   "execution_count": 82,
   "id": "d09f4841-1b0f-483a-9674-d97f53575cbe",
   "metadata": {
    "tags": []
   },
   "outputs": [
    {
     "name": "stdout",
     "output_type": "stream",
     "text": [
      "[[ 72 266]\n",
      " [ 39 674]]\n"
     ]
    }
   ],
   "source": [
    "print(confusion_matrix(y_test,svc_pred))"
   ]
  },
  {
   "cell_type": "code",
   "execution_count": 83,
   "id": "7ad2ddb5-08bb-4fdf-b3b2-21d43f62ece9",
   "metadata": {
    "tags": []
   },
   "outputs": [
    {
     "name": "stdout",
     "output_type": "stream",
     "text": [
      "              precision    recall  f1-score   support\n",
      "\n",
      "           1       0.65      0.21      0.32       338\n",
      "           2       0.72      0.95      0.82       713\n",
      "\n",
      "    accuracy                           0.71      1051\n",
      "   macro avg       0.68      0.58      0.57      1051\n",
      "weighted avg       0.70      0.71      0.66      1051\n",
      "\n"
     ]
    }
   ],
   "source": [
    "print(classification_report(y_test,svc_pred,zero_division=np.nan))"
   ]
  },
  {
   "cell_type": "markdown",
   "id": "2e104cbe-0f58-4652-8aaa-da49abd87f07",
   "metadata": {},
   "source": [
    "# **Unsupervied Model: PCA**"
   ]
  },
  {
   "cell_type": "code",
   "execution_count": 84,
   "id": "beb017ef-bfaf-4299-8c86-4d4b84160058",
   "metadata": {},
   "outputs": [
    {
     "data": {
      "text/plain": [
       "array([0.16178476, 0.09655122, 0.06119894, 0.05369746, 0.05189113,\n",
       "       0.04429442, 0.0421361 , 0.04031739, 0.0368635 , 0.03604223,\n",
       "       0.03521613, 0.03404069, 0.0322415 , 0.03110458, 0.02955364,\n",
       "       0.02736038, 0.02657788, 0.02595352, 0.02518093, 0.02316274,\n",
       "       0.02169709, 0.01743651, 0.01697558, 0.01637149, 0.01235019])"
      ]
     },
     "execution_count": 84,
     "metadata": {},
     "output_type": "execute_result"
    }
   ],
   "source": [
    "from sklearn.decomposition import PCA\n",
    "pca = PCA(n_components = None)\n",
    "X_train = pca.fit_transform(X_train)\n",
    "X_test = pca.transform(X_test)\n",
    "explained_variance = pca.explained_variance_ratio_\n",
    "explained_variance"
   ]
  },
  {
   "cell_type": "code",
   "execution_count": 85,
   "id": "2a4d6b45-0710-46aa-9099-6f92baf2ee52",
   "metadata": {},
   "outputs": [
    {
     "data": {
      "text/plain": [
       "[<matplotlib.lines.Line2D at 0x13ff179d0>]"
      ]
     },
     "execution_count": 85,
     "metadata": {},
     "output_type": "execute_result"
    },
    {
     "data": {
      "image/png": "[encoded data removed]",
      "text/plain": [
       "<Figure size 640x480 with 1 Axes>"
      ]
     },
     "metadata": {},
     "output_type": "display_data"
    }
   ],
   "source": [
    "var1=np.cumsum(explained_variance*100)\n",
    "plt.plot(var1,  marker='o')"
   ]
  },
  {
   "cell_type": "code",
   "execution_count": 99,
   "id": "2363e427-60a6-4c39-a148-e2c9a55d76cd",
   "metadata": {},
   "outputs": [
    {
     "data": {
      "text/plain": [
       "array([0.16178476, 0.09655122, 0.06119894, 0.05369746, 0.05189113,\n",
       "       0.04429442, 0.0421361 , 0.04031739, 0.0368635 , 0.03604223,\n",
       "       0.03521613, 0.03404069, 0.0322415 , 0.03110458, 0.02955364,\n",
       "       0.02736038, 0.02657788, 0.02595352, 0.02518093, 0.02316274,\n",
       "       0.02169709, 0.01743651])"
      ]
     },
     "execution_count": 99,
     "metadata": {},
     "output_type": "execute_result"
    }
   ],
   "source": [
    "pca = PCA(n_components = 22)\n",
    "X_train22 = pca.fit_transform(X_train)\n",
    "X_test22 = pca.transform(X_test)\n",
    "explained_variance = pca.explained_variance_ratio_\n",
    "explained_variance"
   ]
  },
  {
   "cell_type": "code",
   "execution_count": 100,
   "id": "26726b02-b042-41c4-8668-351de7b6b5eb",
   "metadata": {},
   "outputs": [
    {
     "data": {
      "text/plain": [
       "0.954302739808372"
      ]
     },
     "execution_count": 100,
     "metadata": {},
     "output_type": "execute_result"
    }
   ],
   "source": [
    "sum(explained_variance)"
   ]
  },
  {
   "cell_type": "code",
   "execution_count": 97,
   "id": "934c748d-4a37-48d7-bfc9-efd7fe2f1444",
   "metadata": {},
   "outputs": [
    {
     "data": {
      "text/plain": [
       "array([0.16178476, 0.09655122, 0.06119894, 0.05369746, 0.05189113,\n",
       "       0.04429442, 0.0421361 , 0.04031739, 0.0368635 , 0.03604223,\n",
       "       0.03521613, 0.03404069, 0.0322415 , 0.03110458, 0.02955364,\n",
       "       0.02736038, 0.02657788, 0.02595352, 0.02518093, 0.02316274,\n",
       "       0.02169709])"
      ]
     },
     "execution_count": 97,
     "metadata": {},
     "output_type": "execute_result"
    }
   ],
   "source": [
    "pca = PCA(n_components = 21)\n",
    "X_train21 = pca.fit_transform(X_train)\n",
    "X_test21 = pca.transform(X_test)\n",
    "explained_variance = pca.explained_variance_ratio_\n",
    "explained_variance"
   ]
  },
  {
   "cell_type": "code",
   "execution_count": 98,
   "id": "df9f51a8-0eb2-4120-8735-b873d73a4930",
   "metadata": {},
   "outputs": [
    {
     "data": {
      "text/plain": [
       "0.9368662296262326"
      ]
     },
     "execution_count": 98,
     "metadata": {},
     "output_type": "execute_result"
    }
   ],
   "source": [
    "sum(explained_variance)"
   ]
  },
  {
   "cell_type": "code",
   "execution_count": 101,
   "id": "5f7951e6-6eae-434c-9117-7b727e7d4082",
   "metadata": {},
   "outputs": [
    {
     "name": "stdout",
     "output_type": "stream",
     "text": [
      "Fitting 5 folds for each of 7 candidates, totalling 35 fits\n",
      "[CV 1/5] END ...................n_estimators=10;, score=0.694 total time=   0.1s\n",
      "[CV 2/5] END ...................n_estimators=10;, score=0.652 total time=   0.1s\n",
      "[CV 3/5] END ...................n_estimators=10;, score=0.675 total time=   0.1s\n",
      "[CV 4/5] END ...................n_estimators=10;, score=0.688 total time=   0.1s\n",
      "[CV 5/5] END ...................n_estimators=10;, score=0.677 total time=   0.1s\n",
      "[CV 1/5] END ...................n_estimators=50;, score=0.703 total time=   0.5s\n",
      "[CV 2/5] END ...................n_estimators=50;, score=0.692 total time=   0.5s\n",
      "[CV 3/5] END ...................n_estimators=50;, score=0.709 total time=   0.5s\n",
      "[CV 4/5] END ...................n_estimators=50;, score=0.700 total time=   0.5s\n",
      "[CV 5/5] END ...................n_estimators=50;, score=0.685 total time=   0.5s\n",
      "[CV 1/5] END ..................n_estimators=100;, score=0.719 total time=   1.0s\n",
      "[CV 2/5] END ..................n_estimators=100;, score=0.700 total time=   1.0s\n",
      "[CV 3/5] END ..................n_estimators=100;, score=0.705 total time=   1.0s\n",
      "[CV 4/5] END ..................n_estimators=100;, score=0.711 total time=   1.0s\n",
      "[CV 5/5] END ..................n_estimators=100;, score=0.712 total time=   1.0s\n",
      "[CV 1/5] END ..................n_estimators=250;, score=0.718 total time=   2.4s\n",
      "[CV 2/5] END ..................n_estimators=250;, score=0.692 total time=   2.4s\n",
      "[CV 3/5] END ..................n_estimators=250;, score=0.698 total time=   2.4s\n",
      "[CV 4/5] END ..................n_estimators=250;, score=0.711 total time=   2.4s\n",
      "[CV 5/5] END ..................n_estimators=250;, score=0.705 total time=   2.4s\n",
      "[CV 1/5] END ..................n_estimators=500;, score=0.717 total time=   4.8s\n",
      "[CV 2/5] END ..................n_estimators=500;, score=0.702 total time=   4.8s\n",
      "[CV 3/5] END ..................n_estimators=500;, score=0.698 total time=   4.8s\n",
      "[CV 4/5] END ..................n_estimators=500;, score=0.715 total time=   4.8s\n",
      "[CV 5/5] END ..................n_estimators=500;, score=0.701 total time=   4.8s\n",
      "[CV 1/5] END ..................n_estimators=750;, score=0.710 total time=   7.3s\n",
      "[CV 2/5] END ..................n_estimators=750;, score=0.707 total time=   7.2s\n",
      "[CV 3/5] END ..................n_estimators=750;, score=0.704 total time=   7.2s\n",
      "[CV 4/5] END ..................n_estimators=750;, score=0.714 total time=   7.2s\n",
      "[CV 5/5] END ..................n_estimators=750;, score=0.704 total time=   7.1s\n",
      "[CV 1/5] END .................n_estimators=1000;, score=0.710 total time=   9.6s\n",
      "[CV 2/5] END .................n_estimators=1000;, score=0.710 total time=   9.7s\n",
      "[CV 3/5] END .................n_estimators=1000;, score=0.702 total time=   9.6s\n",
      "[CV 4/5] END .................n_estimators=1000;, score=0.701 total time=   9.5s\n",
      "[CV 5/5] END .................n_estimators=1000;, score=0.705 total time=   9.6s\n"
     ]
    },
    {
     "data": {
      "text/html": [
       "<style>#sk-container-id-4 {color: black;}#sk-container-id-4 pre{padding: 0;}#sk-container-id-4 div.sk-toggleable {background-color: white;}#sk-container-id-4 label.sk-toggleable__label {cursor: pointer;display: block;width: 100%;margin-bottom: 0;padding: 0.3em;box-sizing: border-box;text-align: center;}#sk-container-id-4 label.sk-toggleable__label-arrow:before {content: \"▸\";float: left;margin-right: 0.25em;color: #696969;}#sk-container-id-4 label.sk-toggleable__label-arrow:hover:before {color: black;}#sk-container-id-4 div.sk-estimator:hover label.sk-toggleable__label-arrow:before {color: black;}#sk-container-id-4 div.sk-toggleable__content {max-height: 0;max-width: 0;overflow: hidden;text-align: left;background-color: #f0f8ff;}#sk-container-id-4 div.sk-toggleable__content pre {margin: 0.2em;color: black;border-radius: 0.25em;background-color: #f0f8ff;}#sk-container-id-4 input.sk-toggleable__control:checked~div.sk-toggleable__content {max-height: 200px;max-width: 100%;overflow: auto;}#sk-container-id-4 input.sk-toggleable__control:checked~label.sk-toggleable__label-arrow:before {content: \"▾\";}#sk-container-id-4 div.sk-estimator input.sk-toggleable__control:checked~label.sk-toggleable__label {background-color: #d4ebff;}#sk-container-id-4 div.sk-label input.sk-toggleable__control:checked~label.sk-toggleable__label {background-color: #d4ebff;}#sk-container-id-4 input.sk-hidden--visually {border: 0;clip: rect(1px 1px 1px 1px);clip: rect(1px, 1px, 1px, 1px);height: 1px;margin: -1px;overflow: hidden;padding: 0;position: absolute;width: 1px;}#sk-container-id-4 div.sk-estimator {font-family: monospace;background-color: #f0f8ff;border: 1px dotted black;border-radius: 0.25em;box-sizing: border-box;margin-bottom: 0.5em;}#sk-container-id-4 div.sk-estimator:hover {background-color: #d4ebff;}#sk-container-id-4 div.sk-parallel-item::after {content: \"\";width: 100%;border-bottom: 1px solid gray;flex-grow: 1;}#sk-container-id-4 div.sk-label:hover label.sk-toggleable__label {background-color: #d4ebff;}#sk-container-id-4 div.sk-serial::before {content: \"\";position: absolute;border-left: 1px solid gray;box-sizing: border-box;top: 0;bottom: 0;left: 50%;z-index: 0;}#sk-container-id-4 div.sk-serial {display: flex;flex-direction: column;align-items: center;background-color: white;padding-right: 0.2em;padding-left: 0.2em;position: relative;}#sk-container-id-4 div.sk-item {position: relative;z-index: 1;}#sk-container-id-4 div.sk-parallel {display: flex;align-items: stretch;justify-content: center;background-color: white;position: relative;}#sk-container-id-4 div.sk-item::before, #sk-container-id-4 div.sk-parallel-item::before {content: \"\";position: absolute;border-left: 1px solid gray;box-sizing: border-box;top: 0;bottom: 0;left: 50%;z-index: -1;}#sk-container-id-4 div.sk-parallel-item {display: flex;flex-direction: column;z-index: 1;position: relative;background-color: white;}#sk-container-id-4 div.sk-parallel-item:first-child::after {align-self: flex-end;width: 50%;}#sk-container-id-4 div.sk-parallel-item:last-child::after {align-self: flex-start;width: 50%;}#sk-container-id-4 div.sk-parallel-item:only-child::after {width: 0;}#sk-container-id-4 div.sk-dashed-wrapped {border: 1px dashed gray;margin: 0 0.4em 0.5em 0.4em;box-sizing: border-box;padding-bottom: 0.4em;background-color: white;}#sk-container-id-4 div.sk-label label {font-family: monospace;font-weight: bold;display: inline-block;line-height: 1.2em;}#sk-container-id-4 div.sk-label-container {text-align: center;}#sk-container-id-4 div.sk-container {/* jupyter's `normalize.less` sets `[hidden] { display: none; }` but bootstrap.min.css set `[hidden] { display: none !important; }` so we also need the `!important` here to be able to override the default hidden behavior on the sphinx rendered scikit-learn.org. See: https://github.com/scikit-learn/scikit-learn/issues/21755 */display: inline-block !important;position: relative;}#sk-container-id-4 div.sk-text-repr-fallback {display: none;}</style><div id=\"sk-container-id-4\" class=\"sk-top-container\"><div class=\"sk-text-repr-fallback\"><pre>GridSearchCV(estimator=RandomForestClassifier(criterion=&#x27;entropy&#x27;),\n",
       "             param_grid={&#x27;n_estimators&#x27;: [10, 50, 100, 250, 500, 750, 1000]},\n",
       "             verbose=3)</pre><b>In a Jupyter environment, please rerun this cell to show the HTML representation or trust the notebook. <br />On GitHub, the HTML representation is unable to render, please try loading this page with nbviewer.org.</b></div><div class=\"sk-container\" hidden><div class=\"sk-item sk-dashed-wrapped\"><div class=\"sk-label-container\"><div class=\"sk-label sk-toggleable\"><input class=\"sk-toggleable__control sk-hidden--visually\" id=\"sk-estimator-id-10\" type=\"checkbox\" ><label for=\"sk-estimator-id-10\" class=\"sk-toggleable__label sk-toggleable__label-arrow\">GridSearchCV</label><div class=\"sk-toggleable__content\"><pre>GridSearchCV(estimator=RandomForestClassifier(criterion=&#x27;entropy&#x27;),\n",
       "             param_grid={&#x27;n_estimators&#x27;: [10, 50, 100, 250, 500, 750, 1000]},\n",
       "             verbose=3)</pre></div></div></div><div class=\"sk-parallel\"><div class=\"sk-parallel-item\"><div class=\"sk-item\"><div class=\"sk-label-container\"><div class=\"sk-label sk-toggleable\"><input class=\"sk-toggleable__control sk-hidden--visually\" id=\"sk-estimator-id-11\" type=\"checkbox\" ><label for=\"sk-estimator-id-11\" class=\"sk-toggleable__label sk-toggleable__label-arrow\">estimator: RandomForestClassifier</label><div class=\"sk-toggleable__content\"><pre>RandomForestClassifier(criterion=&#x27;entropy&#x27;)</pre></div></div></div><div class=\"sk-serial\"><div class=\"sk-item\"><div class=\"sk-estimator sk-toggleable\"><input class=\"sk-toggleable__control sk-hidden--visually\" id=\"sk-estimator-id-12\" type=\"checkbox\" ><label for=\"sk-estimator-id-12\" class=\"sk-toggleable__label sk-toggleable__label-arrow\">RandomForestClassifier</label><div class=\"sk-toggleable__content\"><pre>RandomForestClassifier(criterion=&#x27;entropy&#x27;)</pre></div></div></div></div></div></div></div></div></div></div>"
      ],
      "text/plain": [
       "GridSearchCV(estimator=RandomForestClassifier(criterion='entropy'),\n",
       "             param_grid={'n_estimators': [10, 50, 100, 250, 500, 750, 1000]},\n",
       "             verbose=3)"
      ]
     },
     "execution_count": 101,
     "metadata": {},
     "output_type": "execute_result"
    }
   ],
   "source": [
    "rf_grid.fit(X_train22,y_train)"
   ]
  },
  {
   "cell_type": "code",
   "execution_count": 103,
   "id": "43cf9192-ddf6-4111-b525-87b602c60fdd",
   "metadata": {},
   "outputs": [
    {
     "data": {
      "text/plain": [
       "{'n_estimators': 100}"
      ]
     },
     "execution_count": 103,
     "metadata": {},
     "output_type": "execute_result"
    }
   ],
   "source": [
    "rf_grid.best_params_"
   ]
  },
  {
   "cell_type": "code",
   "execution_count": 106,
   "id": "705c2979-53a9-4d80-a84b-7a159761732d",
   "metadata": {},
   "outputs": [],
   "source": [
    "rf_pred = rf_grid.predict(X_test22)"
   ]
  },
  {
   "cell_type": "code",
   "execution_count": 107,
   "id": "4429b7d2-41f3-46c7-b625-a3419cbf9de9",
   "metadata": {},
   "outputs": [
    {
     "name": "stdout",
     "output_type": "stream",
     "text": [
      "[[ 71 267]\n",
      " [ 50 663]]\n"
     ]
    }
   ],
   "source": [
    "print(metrics.confusion_matrix(y_test,rf_pred))"
   ]
  },
  {
   "cell_type": "code",
   "execution_count": 108,
   "id": "b54e8f82-5a84-4994-a1b6-bc62de20d20f",
   "metadata": {},
   "outputs": [
    {
     "name": "stdout",
     "output_type": "stream",
     "text": [
      "              precision    recall  f1-score   support\n",
      "\n",
      "           1       0.59      0.21      0.31       338\n",
      "           2       0.71      0.93      0.81       713\n",
      "\n",
      "    accuracy                           0.70      1051\n",
      "   macro avg       0.65      0.57      0.56      1051\n",
      "weighted avg       0.67      0.70      0.65      1051\n",
      "\n"
     ]
    }
   ],
   "source": [
    "print(classification_report(y_test,rf_pred))"
   ]
  },
  {
   "cell_type": "code",
   "execution_count": null,
   "id": "328b8bca-a061-42be-bf40-892b118a7d79",
   "metadata": {},
   "outputs": [],
   "source": []
  }
 ],
 "metadata": {
  "kernelspec": {
   "display_name": "Python 3 (ipykernel)",
   "language": "python",
   "name": "python3"
  },
  "language_info": {
   "codemirror_mode": {
    "name": "ipython",
    "version": 3
   },
   "file_extension": ".py",
   "mimetype": "text/x-python",
   "name": "python",
   "nbconvert_exporter": "python",
   "pygments_lexer": "ipython3",
   "version": "3.11.5"
  }
 },
 "nbformat": 4,
 "nbformat_minor": 5
}
